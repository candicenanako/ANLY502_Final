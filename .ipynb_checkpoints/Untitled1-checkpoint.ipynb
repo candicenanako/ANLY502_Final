{
 "cells": [
  {
   "cell_type": "code",
   "execution_count": 3,
   "metadata": {},
   "outputs": [],
   "source": [
    "import json #A\n",
    "from urllib import request, parse\n",
    "\n",
    "def link_to_title(link): #B\n",
    "    return link[\"title\"]\n",
    "\n",
    "def clean_if_key(page,key): #C\n",
    "    if key in page.keys():\n",
    "        return map(link_to_title,page[key])\n",
    "    else: return []\n",
    "\n",
    "def get_wiki_links(pageTitle): #D\n",
    "    safe_title = parse.quote(pageTitle) #E\n",
    "    url = \"https://en.wikipedia.org/w/api.php?action=query&prop=links|linkshere&pllimit=500&lhlimit=500&titles={}&format=json&formatversion=2\".format(safe_title)\n",
    "    page = request.urlopen(url).read() #G\n",
    "    j = json.loads(page) #H\n",
    "    jpage = j['query']['pages'][0]\n",
    "    inbound = clean_if_key(jpage,\"links\") #I\n",
    "    outbound = clean_if_key(jpage,\"linkshere\")\n",
    "    return {\"title\": pageTitle, #J\n",
    "            \"in-links\":list(inbound),\n",
    "            \"out-links\":list(outbound)}"
   ]
  },
  {
   "cell_type": "code",
   "execution_count": 4,
   "metadata": {},
   "outputs": [],
   "source": [
    "def flatten_network(page):\n",
    "    return page[\"in-links\"]+page[\"out-links\"]"
   ]
  },
  {
   "cell_type": "code",
   "execution_count": 5,
   "metadata": {},
   "outputs": [],
   "source": [
    "def page_to_edges(page):\n",
    "    a = [(page['title'],p) for p in page['out-links']]\n",
    "    b = [(p,page['title']) for p in page['in-links']]\n",
    "    return a+b"
   ]
  },
  {
   "cell_type": "code",
   "execution_count": 6,
   "metadata": {},
   "outputs": [],
   "source": [
    "from multiprocessing import Pool\n",
    "\n",
    "root = get_wiki_links(\"Parallel_computing\")\n",
    "initial_network = flatten_network(root)\n",
    "with Pool() as P:\n",
    "    all_pages = P.map(get_wiki_links, initial_network)\n",
    "    edges = P.map(page_to_edges, all_pages)"
   ]
  },
  {
   "cell_type": "code",
   "execution_count": 7,
   "metadata": {},
   "outputs": [],
   "source": [
    "from itertools import chain\n",
    "edges = chain.from_iterable(edges)"
   ]
  },
  {
   "cell_type": "code",
   "execution_count": null,
   "metadata": {},
   "outputs": [],
   "source": [
    "import networkx as nx\n",
    "G = nx.DiGraph()\n",
    "for e in edges:\n",
    "    G.add_edge(*e)\n",
    "    nx.readwrite.gexf.write_gexf(G,\"./MyGraph.gexf\")"
   ]
  },
  {
   "cell_type": "code",
   "execution_count": null,
   "metadata": {},
   "outputs": [],
   "source": []
  }
 ],
 "metadata": {
  "kernelspec": {
   "display_name": "Python 3",
   "language": "python",
   "name": "python3"
  },
  "language_info": {
   "codemirror_mode": {
    "name": "ipython",
    "version": 3
   },
   "file_extension": ".py",
   "mimetype": "text/x-python",
   "name": "python",
   "nbconvert_exporter": "python",
   "pygments_lexer": "ipython3",
   "version": "3.7.6"
  }
 },
 "nbformat": 4,
 "nbformat_minor": 4
}
