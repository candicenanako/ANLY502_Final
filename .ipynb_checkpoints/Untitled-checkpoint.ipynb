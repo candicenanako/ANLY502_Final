{
 "cells": [
  {
   "cell_type": "markdown",
   "metadata": {},
   "source": [
    "### read as rdd"
   ]
  },
  {
   "cell_type": "code",
   "execution_count": 1,
   "metadata": {},
   "outputs": [],
   "source": [
    "import findspark\n",
    "findspark.init()\n",
    "\n",
    "from pyspark.sql import SparkSession\n",
    "spark = SparkSession.builder.appName(\"502hw4\").getOrCreate()"
   ]
  },
  {
   "cell_type": "code",
   "execution_count": 7,
   "metadata": {},
   "outputs": [],
   "source": [
    "data = spark.sparkContext.textFile(\"s3a://zihe-public/articles/*\")"
   ]
  },
  {
   "cell_type": "code",
   "execution_count": 28,
   "metadata": {},
   "outputs": [],
   "source": [
    "top100 = data.top(100)"
   ]
  },
  {
   "cell_type": "markdown",
   "metadata": {},
   "source": [
    "### Read as dataframe"
   ]
  },
  {
   "cell_type": "code",
   "execution_count": 9,
   "metadata": {},
   "outputs": [],
   "source": [
    "df = spark.read.text(\"s3a://zihe-public/articles/*\")"
   ]
  },
  {
   "cell_type": "code",
   "execution_count": 13,
   "metadata": {},
   "outputs": [
    {
     "data": {
      "text/plain": [
       "Row(value='<doc id=\"1105982\" url=\"https://en.wikipedia.org/wiki?curid=1105982\" title=\"Electrical wiring in the United Kingdom\">')"
      ]
     },
     "execution_count": 13,
     "metadata": {},
     "output_type": "execute_result"
    }
   ],
   "source": [
    "df.first()"
   ]
  },
  {
   "cell_type": "code",
   "execution_count": 14,
   "metadata": {},
   "outputs": [
    {
     "name": "stdout",
     "output_type": "stream",
     "text": [
      "root\n",
      " |-- value: string (nullable = true)\n",
      "\n"
     ]
    }
   ],
   "source": [
    "df.printSchema()"
   ]
  },
  {
   "cell_type": "markdown",
   "metadata": {},
   "source": [
    "### Read all text files"
   ]
  },
  {
   "cell_type": "code",
   "execution_count": 18,
   "metadata": {},
   "outputs": [],
   "source": [
    "wiki = spark.sparkContext.wholeTextFiles(\"s3a://zihe-public/articles/*\")"
   ]
  },
  {
   "cell_type": "code",
   "execution_count": 19,
   "metadata": {},
   "outputs": [],
   "source": [
    "pages = wiki.flatMap(lambda x :(x[1].split('</doc>')))"
   ]
  },
  {
   "cell_type": "code",
   "execution_count": 21,
   "metadata": {},
   "outputs": [
    {
     "ename": "KeyboardInterrupt",
     "evalue": "",
     "output_type": "error",
     "traceback": [
      "\u001b[0;31m---------------------------------------------------------------------------\u001b[0m",
      "\u001b[0;31mKeyboardInterrupt\u001b[0m                         Traceback (most recent call last)",
      "\u001b[0;32m<ipython-input-21-e3b2b5744da3>\u001b[0m in \u001b[0;36m<module>\u001b[0;34m\u001b[0m\n\u001b[0;32m----> 1\u001b[0;31m \u001b[0mpages\u001b[0m\u001b[0;34m.\u001b[0m\u001b[0mtop\u001b[0m\u001b[0;34m(\u001b[0m\u001b[0;36m1\u001b[0m\u001b[0;34m)\u001b[0m\u001b[0;34m\u001b[0m\u001b[0;34m\u001b[0m\u001b[0m\n\u001b[0m",
      "\u001b[0;32m/usr/lib/spark/python/pyspark/rdd.py\u001b[0m in \u001b[0;36mtop\u001b[0;34m(self, num, key)\u001b[0m\n\u001b[1;32m   1283\u001b[0m             \u001b[0;32mreturn\u001b[0m \u001b[0mheapq\u001b[0m\u001b[0;34m.\u001b[0m\u001b[0mnlargest\u001b[0m\u001b[0;34m(\u001b[0m\u001b[0mnum\u001b[0m\u001b[0;34m,\u001b[0m \u001b[0ma\u001b[0m \u001b[0;34m+\u001b[0m \u001b[0mb\u001b[0m\u001b[0;34m,\u001b[0m \u001b[0mkey\u001b[0m\u001b[0;34m=\u001b[0m\u001b[0mkey\u001b[0m\u001b[0;34m)\u001b[0m\u001b[0;34m\u001b[0m\u001b[0;34m\u001b[0m\u001b[0m\n\u001b[1;32m   1284\u001b[0m \u001b[0;34m\u001b[0m\u001b[0m\n\u001b[0;32m-> 1285\u001b[0;31m         \u001b[0;32mreturn\u001b[0m \u001b[0mself\u001b[0m\u001b[0;34m.\u001b[0m\u001b[0mmapPartitions\u001b[0m\u001b[0;34m(\u001b[0m\u001b[0mtopIterator\u001b[0m\u001b[0;34m)\u001b[0m\u001b[0;34m.\u001b[0m\u001b[0mreduce\u001b[0m\u001b[0;34m(\u001b[0m\u001b[0mmerge\u001b[0m\u001b[0;34m)\u001b[0m\u001b[0;34m\u001b[0m\u001b[0;34m\u001b[0m\u001b[0m\n\u001b[0m\u001b[1;32m   1286\u001b[0m \u001b[0;34m\u001b[0m\u001b[0m\n\u001b[1;32m   1287\u001b[0m     \u001b[0;32mdef\u001b[0m \u001b[0mtakeOrdered\u001b[0m\u001b[0;34m(\u001b[0m\u001b[0mself\u001b[0m\u001b[0;34m,\u001b[0m \u001b[0mnum\u001b[0m\u001b[0;34m,\u001b[0m \u001b[0mkey\u001b[0m\u001b[0;34m=\u001b[0m\u001b[0;32mNone\u001b[0m\u001b[0;34m)\u001b[0m\u001b[0;34m:\u001b[0m\u001b[0;34m\u001b[0m\u001b[0;34m\u001b[0m\u001b[0m\n",
      "\u001b[0;32m/usr/lib/spark/python/pyspark/rdd.py\u001b[0m in \u001b[0;36mreduce\u001b[0;34m(self, f)\u001b[0m\n\u001b[1;32m    842\u001b[0m             \u001b[0;32myield\u001b[0m \u001b[0mreduce\u001b[0m\u001b[0;34m(\u001b[0m\u001b[0mf\u001b[0m\u001b[0;34m,\u001b[0m \u001b[0miterator\u001b[0m\u001b[0;34m,\u001b[0m \u001b[0minitial\u001b[0m\u001b[0;34m)\u001b[0m\u001b[0;34m\u001b[0m\u001b[0;34m\u001b[0m\u001b[0m\n\u001b[1;32m    843\u001b[0m \u001b[0;34m\u001b[0m\u001b[0m\n\u001b[0;32m--> 844\u001b[0;31m         \u001b[0mvals\u001b[0m \u001b[0;34m=\u001b[0m \u001b[0mself\u001b[0m\u001b[0;34m.\u001b[0m\u001b[0mmapPartitions\u001b[0m\u001b[0;34m(\u001b[0m\u001b[0mfunc\u001b[0m\u001b[0;34m)\u001b[0m\u001b[0;34m.\u001b[0m\u001b[0mcollect\u001b[0m\u001b[0;34m(\u001b[0m\u001b[0;34m)\u001b[0m\u001b[0;34m\u001b[0m\u001b[0;34m\u001b[0m\u001b[0m\n\u001b[0m\u001b[1;32m    845\u001b[0m         \u001b[0;32mif\u001b[0m \u001b[0mvals\u001b[0m\u001b[0;34m:\u001b[0m\u001b[0;34m\u001b[0m\u001b[0;34m\u001b[0m\u001b[0m\n\u001b[1;32m    846\u001b[0m             \u001b[0;32mreturn\u001b[0m \u001b[0mreduce\u001b[0m\u001b[0;34m(\u001b[0m\u001b[0mf\u001b[0m\u001b[0;34m,\u001b[0m \u001b[0mvals\u001b[0m\u001b[0;34m)\u001b[0m\u001b[0;34m\u001b[0m\u001b[0;34m\u001b[0m\u001b[0m\n",
      "\u001b[0;32m/usr/lib/spark/python/pyspark/rdd.py\u001b[0m in \u001b[0;36mcollect\u001b[0;34m(self)\u001b[0m\n\u001b[1;32m    814\u001b[0m         \"\"\"\n\u001b[1;32m    815\u001b[0m         \u001b[0;32mwith\u001b[0m \u001b[0mSCCallSiteSync\u001b[0m\u001b[0;34m(\u001b[0m\u001b[0mself\u001b[0m\u001b[0;34m.\u001b[0m\u001b[0mcontext\u001b[0m\u001b[0;34m)\u001b[0m \u001b[0;32mas\u001b[0m \u001b[0mcss\u001b[0m\u001b[0;34m:\u001b[0m\u001b[0;34m\u001b[0m\u001b[0;34m\u001b[0m\u001b[0m\n\u001b[0;32m--> 816\u001b[0;31m             \u001b[0msock_info\u001b[0m \u001b[0;34m=\u001b[0m \u001b[0mself\u001b[0m\u001b[0;34m.\u001b[0m\u001b[0mctx\u001b[0m\u001b[0;34m.\u001b[0m\u001b[0m_jvm\u001b[0m\u001b[0;34m.\u001b[0m\u001b[0mPythonRDD\u001b[0m\u001b[0;34m.\u001b[0m\u001b[0mcollectAndServe\u001b[0m\u001b[0;34m(\u001b[0m\u001b[0mself\u001b[0m\u001b[0;34m.\u001b[0m\u001b[0m_jrdd\u001b[0m\u001b[0;34m.\u001b[0m\u001b[0mrdd\u001b[0m\u001b[0;34m(\u001b[0m\u001b[0;34m)\u001b[0m\u001b[0;34m)\u001b[0m\u001b[0;34m\u001b[0m\u001b[0;34m\u001b[0m\u001b[0m\n\u001b[0m\u001b[1;32m    817\u001b[0m         \u001b[0;32mreturn\u001b[0m \u001b[0mlist\u001b[0m\u001b[0;34m(\u001b[0m\u001b[0m_load_from_socket\u001b[0m\u001b[0;34m(\u001b[0m\u001b[0msock_info\u001b[0m\u001b[0;34m,\u001b[0m \u001b[0mself\u001b[0m\u001b[0;34m.\u001b[0m\u001b[0m_jrdd_deserializer\u001b[0m\u001b[0;34m)\u001b[0m\u001b[0;34m)\u001b[0m\u001b[0;34m\u001b[0m\u001b[0;34m\u001b[0m\u001b[0m\n\u001b[1;32m    818\u001b[0m \u001b[0;34m\u001b[0m\u001b[0m\n",
      "\u001b[0;32m/usr/lib/spark/python/lib/py4j-0.10.7-src.zip/py4j/java_gateway.py\u001b[0m in \u001b[0;36m__call__\u001b[0;34m(self, *args)\u001b[0m\n\u001b[1;32m   1253\u001b[0m             \u001b[0mproto\u001b[0m\u001b[0;34m.\u001b[0m\u001b[0mEND_COMMAND_PART\u001b[0m\u001b[0;34m\u001b[0m\u001b[0;34m\u001b[0m\u001b[0m\n\u001b[1;32m   1254\u001b[0m \u001b[0;34m\u001b[0m\u001b[0m\n\u001b[0;32m-> 1255\u001b[0;31m         \u001b[0manswer\u001b[0m \u001b[0;34m=\u001b[0m \u001b[0mself\u001b[0m\u001b[0;34m.\u001b[0m\u001b[0mgateway_client\u001b[0m\u001b[0;34m.\u001b[0m\u001b[0msend_command\u001b[0m\u001b[0;34m(\u001b[0m\u001b[0mcommand\u001b[0m\u001b[0;34m)\u001b[0m\u001b[0;34m\u001b[0m\u001b[0;34m\u001b[0m\u001b[0m\n\u001b[0m\u001b[1;32m   1256\u001b[0m         return_value = get_return_value(\n\u001b[1;32m   1257\u001b[0m             answer, self.gateway_client, self.target_id, self.name)\n",
      "\u001b[0;32m/usr/lib/spark/python/lib/py4j-0.10.7-src.zip/py4j/java_gateway.py\u001b[0m in \u001b[0;36msend_command\u001b[0;34m(self, command, retry, binary)\u001b[0m\n\u001b[1;32m    983\u001b[0m         \u001b[0mconnection\u001b[0m \u001b[0;34m=\u001b[0m \u001b[0mself\u001b[0m\u001b[0;34m.\u001b[0m\u001b[0m_get_connection\u001b[0m\u001b[0;34m(\u001b[0m\u001b[0;34m)\u001b[0m\u001b[0;34m\u001b[0m\u001b[0;34m\u001b[0m\u001b[0m\n\u001b[1;32m    984\u001b[0m         \u001b[0;32mtry\u001b[0m\u001b[0;34m:\u001b[0m\u001b[0;34m\u001b[0m\u001b[0;34m\u001b[0m\u001b[0m\n\u001b[0;32m--> 985\u001b[0;31m             \u001b[0mresponse\u001b[0m \u001b[0;34m=\u001b[0m \u001b[0mconnection\u001b[0m\u001b[0;34m.\u001b[0m\u001b[0msend_command\u001b[0m\u001b[0;34m(\u001b[0m\u001b[0mcommand\u001b[0m\u001b[0;34m)\u001b[0m\u001b[0;34m\u001b[0m\u001b[0;34m\u001b[0m\u001b[0m\n\u001b[0m\u001b[1;32m    986\u001b[0m             \u001b[0;32mif\u001b[0m \u001b[0mbinary\u001b[0m\u001b[0;34m:\u001b[0m\u001b[0;34m\u001b[0m\u001b[0;34m\u001b[0m\u001b[0m\n\u001b[1;32m    987\u001b[0m                 \u001b[0;32mreturn\u001b[0m \u001b[0mresponse\u001b[0m\u001b[0;34m,\u001b[0m \u001b[0mself\u001b[0m\u001b[0;34m.\u001b[0m\u001b[0m_create_connection_guard\u001b[0m\u001b[0;34m(\u001b[0m\u001b[0mconnection\u001b[0m\u001b[0;34m)\u001b[0m\u001b[0;34m\u001b[0m\u001b[0;34m\u001b[0m\u001b[0m\n",
      "\u001b[0;32m/usr/lib/spark/python/lib/py4j-0.10.7-src.zip/py4j/java_gateway.py\u001b[0m in \u001b[0;36msend_command\u001b[0;34m(self, command)\u001b[0m\n\u001b[1;32m   1150\u001b[0m \u001b[0;34m\u001b[0m\u001b[0m\n\u001b[1;32m   1151\u001b[0m         \u001b[0;32mtry\u001b[0m\u001b[0;34m:\u001b[0m\u001b[0;34m\u001b[0m\u001b[0;34m\u001b[0m\u001b[0m\n\u001b[0;32m-> 1152\u001b[0;31m             \u001b[0manswer\u001b[0m \u001b[0;34m=\u001b[0m \u001b[0msmart_decode\u001b[0m\u001b[0;34m(\u001b[0m\u001b[0mself\u001b[0m\u001b[0;34m.\u001b[0m\u001b[0mstream\u001b[0m\u001b[0;34m.\u001b[0m\u001b[0mreadline\u001b[0m\u001b[0;34m(\u001b[0m\u001b[0;34m)\u001b[0m\u001b[0;34m[\u001b[0m\u001b[0;34m:\u001b[0m\u001b[0;34m-\u001b[0m\u001b[0;36m1\u001b[0m\u001b[0;34m]\u001b[0m\u001b[0;34m)\u001b[0m\u001b[0;34m\u001b[0m\u001b[0;34m\u001b[0m\u001b[0m\n\u001b[0m\u001b[1;32m   1153\u001b[0m             \u001b[0mlogger\u001b[0m\u001b[0;34m.\u001b[0m\u001b[0mdebug\u001b[0m\u001b[0;34m(\u001b[0m\u001b[0;34m\"Answer received: {0}\"\u001b[0m\u001b[0;34m.\u001b[0m\u001b[0mformat\u001b[0m\u001b[0;34m(\u001b[0m\u001b[0manswer\u001b[0m\u001b[0;34m)\u001b[0m\u001b[0;34m)\u001b[0m\u001b[0;34m\u001b[0m\u001b[0;34m\u001b[0m\u001b[0m\n\u001b[1;32m   1154\u001b[0m             \u001b[0;32mif\u001b[0m \u001b[0manswer\u001b[0m\u001b[0;34m.\u001b[0m\u001b[0mstartswith\u001b[0m\u001b[0;34m(\u001b[0m\u001b[0mproto\u001b[0m\u001b[0;34m.\u001b[0m\u001b[0mRETURN_MESSAGE\u001b[0m\u001b[0;34m)\u001b[0m\u001b[0;34m:\u001b[0m\u001b[0;34m\u001b[0m\u001b[0;34m\u001b[0m\u001b[0m\n",
      "\u001b[0;32m~/miniconda/lib/python3.7/socket.py\u001b[0m in \u001b[0;36mreadinto\u001b[0;34m(self, b)\u001b[0m\n\u001b[1;32m    587\u001b[0m         \u001b[0;32mwhile\u001b[0m \u001b[0;32mTrue\u001b[0m\u001b[0;34m:\u001b[0m\u001b[0;34m\u001b[0m\u001b[0;34m\u001b[0m\u001b[0m\n\u001b[1;32m    588\u001b[0m             \u001b[0;32mtry\u001b[0m\u001b[0;34m:\u001b[0m\u001b[0;34m\u001b[0m\u001b[0;34m\u001b[0m\u001b[0m\n\u001b[0;32m--> 589\u001b[0;31m                 \u001b[0;32mreturn\u001b[0m \u001b[0mself\u001b[0m\u001b[0;34m.\u001b[0m\u001b[0m_sock\u001b[0m\u001b[0;34m.\u001b[0m\u001b[0mrecv_into\u001b[0m\u001b[0;34m(\u001b[0m\u001b[0mb\u001b[0m\u001b[0;34m)\u001b[0m\u001b[0;34m\u001b[0m\u001b[0;34m\u001b[0m\u001b[0m\n\u001b[0m\u001b[1;32m    590\u001b[0m             \u001b[0;32mexcept\u001b[0m \u001b[0mtimeout\u001b[0m\u001b[0;34m:\u001b[0m\u001b[0;34m\u001b[0m\u001b[0;34m\u001b[0m\u001b[0m\n\u001b[1;32m    591\u001b[0m                 \u001b[0mself\u001b[0m\u001b[0;34m.\u001b[0m\u001b[0m_timeout_occurred\u001b[0m \u001b[0;34m=\u001b[0m \u001b[0;32mTrue\u001b[0m\u001b[0;34m\u001b[0m\u001b[0;34m\u001b[0m\u001b[0m\n",
      "\u001b[0;31mKeyboardInterrupt\u001b[0m: "
     ]
    }
   ],
   "source": [
    "pages.top(1) # manually stopped after 5 minutes"
   ]
  },
  {
   "cell_type": "code",
   "execution_count": 33,
   "metadata": {},
   "outputs": [
    {
     "data": {
      "text/plain": [
       "['𨔍之彼嗇斯豐',\n",
       " '𦢳殺𦢳終𠬠俸旂。',\n",
       " '𤾓𢆥𥪞𡎝𠊛些',\n",
       " '𤀘𨖲！衝葩𣾼過雹𤑫。',\n",
       " '𤀘𨖲！人民沔南英雄！',\n",
       " '𣦆戈沒局𣷭橷',\n",
       " '𡦂才𡦂命窖羅恄饒',\n",
       " '𡗶撑悁貝𦟐紅打慳',\n",
       " '𠬠𣳔些𤷍嫩滝凭鑕.',\n",
       " '\\U0001fa53 U+1FA53 BLACK CHESS KNIGHT-BISHOP',\n",
       " '\\U0001fa52 U+1FA52 BLACK CHESS KNIGHT-ROOK',\n",
       " '\\U0001fa51 U+1FA51 BLACK CHESS KNIGHT-QUEEN',\n",
       " '\\U0001fa50 U+1FA50 WHITE CHESS KNIGHT-BISHOP<br>',\n",
       " '\\U0001fa4f U+1FA4F WHITE CHESS KNIGHT-ROOK<br>',\n",
       " '\\U0001fa4e U+1FA4E WHITE CHESS KNIGHT-QUEEN<br>',\n",
       " '🥉 100m Freestyle S10',\n",
       " '🥈 200m Individual Medley SM10',\n",
       " '🥈 100m Breaststroke SB9',\n",
       " '🥈 100m Breaststroke S10',\n",
       " '🥈 100m Backstroke S10',\n",
       " '🥇 World Champion 100m backstroke S10',\n",
       " '🥇 Paralympic Champion 100m Breaststroke SB9',\n",
       " '🥇 European Champion 200m Individual Medley SM10 ,European Record',\n",
       " '🥇 European Champion 100m Butterfly S10',\n",
       " '🚫 = Ruled out ---',\n",
       " '🌟Aizawl F.C. (INDIA- I league )',\n",
       " '🇮🇳 Fattyabad 🇮🇳',\n",
       " '🇪🇹 El shalom Blessing Synagogue ( Ethiopia)',\n",
       " '𝜕 is described as the set of sets that have the property that the motion vectors of an object are conserved. 𝜕 can be thought of as the set of sets (including proper frames) of all possible motions of a given object, such that a proper frame always results.',\n",
       " '𝛿=E/N ',\n",
       " '𝕊 is the blackboard bold letter S. It can refer to:',\n",
       " '𝕊',\n",
       " '𝔹 is the blackboard bold letter B. It can refer to:',\n",
       " '𝔹',\n",
       " '𝔓',\n",
       " '𝒫(ℕ) contains infinite subsets of ℕ, e.g. the set of all even numbers {2, 4, 6...}, as well as the empty set.',\n",
       " '𝄆 Проклет да е тој што предал',\n",
       " '𝄆 Проклет био издајица',\n",
       " '𝄆 Не нѐ плашат адски бездни',\n",
       " '𝄆 Залуд прети понор пакла,',\n",
       " '𝄆 črna zemlja naj pogrezne',\n",
       " '𝄆 grom in peklo, prazne vaše',\n",
       " '𝄆 Zalud prijeti ponor pakla',\n",
       " '𝄆 See, over all the streets, the fascist banners waving,',\n",
       " '𝄆 Proklet da e toj što predal',\n",
       " '𝄆 Proklet bio izdajica',\n",
       " '𝄆 Ne nè plašat adski bezdni',\n",
       " '𝄆 May he be damned, the traitor',\n",
       " '𝄆 Join in our song, for they still march in spirit with us,',\n",
       " '𝄆 Infernal abysses do not frighten us,',\n",
       " '𝄆 In vain threatens the abyss of Hell',\n",
       " '𝄆 Cursed is he who betrays his',\n",
       " '𝄆 Against vested powers, Red Front, and massed ranks of reaction,',\n",
       " '𓈖 (U+13216, Gardiner N35) is the Egyptian \"water ripple\" hieroglyph. See:',\n",
       " '𓈖',\n",
       " '𓅃𓊁',\n",
       " '𑢽𑣃𑣖𑣊 𑣓𑣂𑣖𑣂𑣓𑣀 𑣔𑣉 𑣗𑣓𑣉 𑣓𑣈𑣓 𑣙𑣉𑣉 𑣙𑣅𑣖 𑣚𑣂𑣘𑣂 𑣏𑣂𑣕𑣂 𑣙𑣗𑣁𑣜𑣊 𑣚𑣂𑣕𑣂 𑣏𑣂𑣕𑣂 𑣟𑣌𑣂 𑣓𑣃𑣕𑣃𑣖 𑣙𑣉𑣗𑣁 𑣅𑣓 𑣕𑣈𑣅𑣄 𑣜𑣈𑣅𑣄 𑣁𑣉𑣙 𑣌𑣎𑣂 𑣔𑣉 𑣖𑣈𑣓𑣄 𑣋𑣈𑣅𑣁 𑣏𑣂𑣌𑣁 𑣓𑣈𑣓 𑣘𑣉𑣔 𑣕𑣈 𑣟𑣘𑣁 𑣁𑣒𑣌𑣜 𑣔𑣘𑣁𑣉𑣄 𑣁𑣄. 𑣏𑣂𑣌𑣁 𑣙𑣉𑣉 𑣘𑣉𑣔 :- ',\n",
       " '𑢽𑣂𑣜𑣂𑣖𑣁 𑣜𑣈𑣖𑣁 𑣚𑣂𑣘𑣂 𑣓𑣉𑣕𑣈 𑣜𑣈𑣖𑣁 ...𑣈𑣊𑣋𑣍 𑣁𑣘𑣃𑣍 𑣚𑣈𑣌𑣍 𑣏𑣂𑣓 𑣁𑣖𑣈𑣅𑣁.',\n",
       " \"𑢹𑣗𑣁𑣜𑣊 𑣏𑣂𑣕𑣂 𑣜𑣄 𑣟𑣌𑣂 - 𑢹𑣗𑣁𑣜𑣊-𑣝𑣂𑣜𑣂𑣎𑣓'𑣄 𑣖𑣁𑣊 𑣝𑣛𑣂 𑣏𑣂 𑣝𑣅𑣑 𑣝𑣃𑣜 𑣝𑣛𑣂 𑣋𑣈𑣌𑣉 𑣖𑣈𑣕𑣄, 𑣉𑣌𑣉𑣓𑣁 𑣏𑣂 𑣎𑣁 𑣎𑣉𑣜𑣊 𑣌𑣁 𑣗𑣉𑣔𑣉𑣚 𑣜𑣈𑣓𑣙 𑣓𑣁. 𑣏𑣂𑣌𑣁 𑣟𑣂𑣒𑣂𑣅𑣁'𑣄 𑣖𑣁𑣊 𑣜𑣄𑣁 𑣝𑣛𑣂 . 𑣔𑣇 𑣔𑣇 𑣗𑣃 𑣎𑣉𑣓𑣉𑣖𑣉𑣄 𑣔𑣇 𑣔𑣇 𑣖𑣓𑣉𑣁𑣙 𑣎𑣕𑣂 𑣌𑣉𑣅𑣕𑣈 𑣈𑣓 𑣝𑣛𑣂 𑣋𑣈 𑣁𑣏𑣃𑣜𑣈𑣓𑣁. 𑣈𑣓𑣁 𑣖𑣈𑣓𑣕𑣈 𑣋𑣈 𑣓𑣈𑣓𑣁 𑢹𑣗𑣁𑣜𑣊 𑣚𑣂𑣘𑣂 𑣖𑣈𑣓𑣉𑣄 𑣕𑣓𑣁. 𑣈𑣓 𑣚𑣈𑣌𑣁𑣋𑣈 𑣏𑣂𑣕𑣂 𑣅𑣉𑣙 𑢹𑣗𑣁𑣜𑣊 𑣏𑣂𑣕𑣂 𑣖𑣈𑣓𑣉𑣄 𑣕𑣓𑣁. \",\n",
       " '𑄇𑄴 k = 𑄇 kā + 𑄴 MAAYYAA',\n",
       " '𐲍·𐲐𐲒·𐲀·𐲤·𐲐·𐲗·𐲗·𐲖𐲦·𐲀·',\n",
       " '𐩱 𐩵 𐩡 𐩪, , ) was an ancient city located along the Red Sea in the Gulf of Zula, about south of Massawa. Its ruins lie within the modern Eritrean city of Zula. Adulis was the emporium considered part of the D’mt and Aksumite empires. It was close to Greece and the Byzantine Empire, with its luxury-goods and trade routes. The location of Adulis can be included in the area known to the ancient Egyptians as the Land of the Gods, and perhaps coinciding with the locality of \"Wddt\", recorded in the geographical list of the Eighteenth Dynasty of Egypt.',\n",
       " '𐤲𐤦𐤭𐤠 – qira – field, ground, immovable property',\n",
       " '𐤬𐤭𐤠 – ora – month',\n",
       " '𐤩𐤠𐤲𐤭𐤦𐤳𐤠 – laqrisa – inscription, letters',\n",
       " '𐤡𐤦𐤭𐤠 – bira – house',\n",
       " '𐡔𐡍𐡕 (ŠNT) for سرذ \"sarδ\" “year”, 𐡍𐡐𐡔𐡉 (NPŠY) for خداك \"xudāk\" \"self\" and 𐡌𐡋𐡊𐡀 (MLK\\') for اى شاه \"ī šah\" \"the king\".',\n",
       " '𐎣𐎼𐏁 (karša) or 𐎣𐎼𐏁𐎹𐎠 (karšayā) is a unit of weight equal to 10 Babylonian \"shekels\" or Babylonian \"mina\" weighing approximately .',\n",
       " '𐊡𐋊𐋋𐋌𐋍 are graphic variants, as are 𐊤𐋈𐋐, 𐋎𐊦𐋏, 𐊺𐋏, 𐊼𐊽, 𐋂𐋃, 𐋁𐋀, and possibly 𐋇𐊶.',\n",
       " '��',\n",
       " '�where formula_16is a geodesic curvature of the rope curve, formula_17 is a curvature of a rope curve, formula_18is a coefficient of friction in the tangential direction.',\n",
       " '�* Block K: In the Northern part of colony, having 5 buildings labelled A, B, C, E. Each building consists of 4 floors with 2 flats in each, But E contains 4 floors with 4 flats in each.�',\n",
       " '�* Block J: In central part of Colony, having 4 buildings. Each buildings consists of 4 floors with 4 flats in each.',\n",
       " '�* Block H: In Southern part of colony, having 4 buildings. Each building consists of 4 floors with 4 flats in each.',\n",
       " '� Star 102.7 boasts the fastest growing audience in � Cairns for CUME.',\n",
       " '� Not proposed for Unicode',\n",
       " '�',\n",
       " '�',\n",
       " '�',\n",
       " '�',\n",
       " '�',\n",
       " '�',\n",
       " '�',\n",
       " '�',\n",
       " '�',\n",
       " '�',\n",
       " '�',\n",
       " '�',\n",
       " '�',\n",
       " '�',\n",
       " '�',\n",
       " '�',\n",
       " '�',\n",
       " '�',\n",
       " '�',\n",
       " '�',\n",
       " '�',\n",
       " '�',\n",
       " '�',\n",
       " '�']"
      ]
     },
     "execution_count": 33,
     "metadata": {},
     "output_type": "execute_result"
    }
   ],
   "source": [
    "top100"
   ]
  },
  {
   "cell_type": "code",
   "execution_count": 34,
   "metadata": {},
   "outputs": [],
   "source": [
    "AA00 = spark.sparkContext.textFile(\"s3a://zihe-public/articles/AA/wiki_00\")"
   ]
  },
  {
   "cell_type": "code",
   "execution_count": 36,
   "metadata": {},
   "outputs": [],
   "source": [
    "sentences = AA00.top(100)"
   ]
  },
  {
   "cell_type": "code",
   "execution_count": 38,
   "metadata": {},
   "outputs": [
    {
     "data": {
      "text/plain": [
       "['Under the pretext of a slight to their consul, the French invaded and captured Algiers in 1830. Historian Ben Kiernan wrote on the French conquest of Algeria: \"By 1875, the French conquest was complete. The war had killed approximately 825,000 indigenous Algerians since 1830.\" French losses from 1831–51 were 92,329 dead in the hospital and only 3,336 killed in action. The population of Algeria, which stood at about 2.9 million in 1872, reached nearly 11 million in 1960. French policy was predicated on \"civilizing\" the country. The slave trade and piracy in Algeria ceased following the French conquest. The conquest of Algeria by the French took some time and resulted in considerable bloodshed. A combination of violence and disease epidemics caused the indigenous Algerian population to decline by nearly one-third from 1830 to 1872. During this period, a small but influential French-speaking indigenous elite was formed, made up of Berbers, mostly Kabyles. As a consequence, French government favored the Kabyles. About 80% of Indigenous schools were constructed for Kabyles.',\n",
       " \"UTC is a discontinuous time scale. It is regularly adjusted by leap seconds. Between these adjustments, it is composed of segments that are linear transformations of atomic time. From its beginning in 1961 through December 1971, the adjustments were made regularly in fractional leap seconds so that UTC approximated UT2. Afterwards, these adjustments were made only in whole seconds to approximate UT1. This was a compromise arrangement in order to enable a publicly broadcast time scale; the post-1971 more linear transformation of the BIH's atomic time meant that the time scale would be more stable and easier to synchronize internationally. The fact that it continues to approximate UT1 means that tasks such as navigation which require a source of Universal Time continue to be well served by the public broadcast of UTC.\",\n",
       " 'UAB Hospital is the only Level I trauma center in Alabama. UAB is the largest state government employer in Alabama, with a workforce of about 18,000. A 2017 study found that Alabama had the least competitive health insurance market in the country, with Blue Cross and Blue Shield of Alabama having a market share of 84% followed by UnitedHealth Group at 7%.',\n",
       " \"Typical criticism of the Academy Awards for Best Picture is that among the winners and nominees there is an over-representation of romantic historical epics, biographical dramas, romantic dramedies and family melodramas, most of which are released in the U.S. the last three months of the calendar year. The Oscars have been infamously known for selecting specific genres of movies to be awarded. This has led to the coining of the term 'Oscar bait', describing such movies. This has led at times to more specific criticisms that the Academy is disconnected from the audience, e.g., by favoring 'Oscar bait' over audience favorites, or favoring historical melodramas over critically acclaimed movies that depict current life issues.\",\n",
       " 'Two-thirds of residents lack Andorran nationality and do not have the right to vote in communal elections. Moreover, they are not allowed to be elected as prime minister or to own more than 33% of the capital stock of a privately held company.',\n",
       " 'Two weeks later, Booth was tracked to a farm in Virginia. Refusing to surrender, Sergeant Boston Corbett killed Booth on April 26.',\n",
       " 'Two urtext editions of the work were published by the German publisher B-Note Music in 2015. The changes made by Campbell-Watson were withdrawn in both editions. In the extended urtext, 120 bars of music were re-integrated. Conductor Walter Damrosch had cut them shortly before the first performance.',\n",
       " 'Two famous early Indian alchemical authors were Nāgārjuna Siddha and Nityanātha Siddha. Nāgārjuna Siddha was a Buddhist monk. His book, \"Rasendramangalam\", is an example of Indian alchemy and medicine. Nityanātha Siddha wrote \"Rasaratnākara\", also a highly influential work. In Sanskrit, \"rasa\" translates to \"mercury\", and Nāgārjuna Siddha was said to have developed a method of converting mercury into gold.',\n",
       " 'Two common albedos that are used in astronomy are the (V-band) geometric albedo (measuring brightness when illumination comes from directly behind the observer) and the Bond albedo (measuring total proportion of electromagnetic energy reflected). Their values can differ significantly, which is a common source of confusion.',\n",
       " 'True to his record, Lincoln professed to friends in 1861 to be \"an old line Whig, a disciple of Henry Clay.\" Their party favored economic modernization in banking, tariffs to fund internal improvements including railroads, and urbanization.']"
      ]
     },
     "execution_count": 38,
     "metadata": {},
     "output_type": "execute_result"
    }
   ],
   "source": [
    "sentences[90:100] # list of strings"
   ]
  },
  {
   "cell_type": "code",
   "execution_count": 69,
   "metadata": {},
   "outputs": [],
   "source": [
    "sentences_all = AA00.collect()"
   ]
  },
  {
   "cell_type": "code",
   "execution_count": 78,
   "metadata": {},
   "outputs": [
    {
     "data": {
      "text/plain": [
       "['<doc id=\"12\" url=\"https://en.wikipedia.org/wiki?curid=12\" title=\"Anarchism\">',\n",
       " 'Anarchism',\n",
       " '',\n",
       " 'Anarchism is a political philosophy and movement that rejects all involuntary, coercive forms of hierarchy. It radically calls for the abolition of the state which it holds to be undesirable, unnecessary and harmful.',\n",
       " '',\n",
       " \"The timeline of anarchism stretches back to prehistory when people lived in anarchistic societies long before the establishment of formal states, kingdoms or empires. With the rise of organised hierarchical bodies, skepticism towards authority also rose, but it was not until the 19th century that a self-conscious political movement was formed. During the latest half of 19th and the first decades of 20th century, the anarchist movement flourished in most parts of the world and had a significant role in worker's struggles for emancipation. Various branches of anarchism were espoused during those times. Anarchists took part in several revolutions, most notably in the Spanish Civil War, where they were crushed by the fascist forces in 1939, marking the end of the classical era of anarchism. In the last decades of the 20th century and into the 21st century, the anarchist movement has been resurgent once more.\",\n",
       " '',\n",
       " 'Anarchism employs various tactics in order to meet its ideal ends; these can be broadly separated in revolutionary and evolutionary tactics. There is significant overlap between the two legs which are merely descriptive. Revolutionary tactics aim to bring down authority and state, and have taken a violent turn in the past. Evolutionary tactics aim to prefigure what an anarchist society would be like. Anarchist thought, criticism and praxis has played a part in diverse fields of human society.',\n",
       " '',\n",
       " 'Criticism of anarchism mainly focuses on it being internally inconsistent, violent and utopian.']"
      ]
     },
     "execution_count": 78,
     "metadata": {},
     "output_type": "execute_result"
    }
   ],
   "source": [
    "sentences_all[0:10]"
   ]
  },
  {
   "cell_type": "markdown",
   "metadata": {},
   "source": [
    "### Train word2vec"
   ]
  },
  {
   "cell_type": "code",
   "execution_count": 81,
   "metadata": {},
   "outputs": [
    {
     "name": "stderr",
     "output_type": "stream",
     "text": [
      "[nltk_data] Downloading package stopwords to /home/hadoop/nltk_data...\n",
      "[nltk_data]   Package stopwords is already up-to-date!\n"
     ]
    },
    {
     "data": {
      "text/plain": [
       "['émile',\n",
       " 'cohl',\n",
       " 'fantasmagorie',\n",
       " '1908',\n",
       " 'oldest',\n",
       " 'known',\n",
       " 'example',\n",
       " 'became',\n",
       " 'known',\n",
       " 'traditional']"
      ]
     },
     "execution_count": 81,
     "metadata": {},
     "output_type": "execute_result"
    }
   ],
   "source": [
    "import nltk\n",
    "nltk.download('stopwords')\n",
    "from nltk.corpus import stopwords \n",
    "import re\n",
    "\n",
    "def clean_tokenize(sentence):  \n",
    "    '''\n",
    "    Takes in a long string of text, split them into words, \n",
    "    remove stop words and useless words, convert the rest to \n",
    "    lower case and return a list of words.\n",
    "    '''\n",
    "    useless = ['a', \"the\", \"is\", \"by\"] \n",
    "    stops = list(set(stopwords.words('english')))\n",
    "    ignore = useless + stops\n",
    "    out = []\n",
    "    for i in range(len(sentence)):\n",
    "        if re.match(\"^\\<doc\\sid=*\", sentence[i]):\n",
    "            pass\n",
    "        else:\n",
    "            words = re.sub(\"[^\\w]\", \" \",  sentence[i]).split()    \n",
    "            cleaned_text = [w.lower() for w in words if w not in ignore]\n",
    "            out.append(cleaned_text)\n",
    "    out = [item for sublist in out for item in sublist]\n",
    "    return(out)\n",
    "\n",
    "bag = clean_tokenize(sentences)\n",
    "bag[0:10]"
   ]
  },
  {
   "cell_type": "code",
   "execution_count": 82,
   "metadata": {},
   "outputs": [
    {
     "data": {
      "text/plain": [
       "5173"
      ]
     },
     "execution_count": 82,
     "metadata": {},
     "output_type": "execute_result"
    }
   ],
   "source": [
    "len(bag)"
   ]
  },
  {
   "cell_type": "code",
   "execution_count": 67,
   "metadata": {},
   "outputs": [
    {
     "name": "stderr",
     "output_type": "stream",
     "text": [
      "2020-04-26 01:24:31,549 : INFO : collecting all words and their counts\n",
      "2020-04-26 01:24:31,549 : INFO : PROGRESS: at sentence #0, processed 0 words, keeping 0 word types\n",
      "2020-04-26 01:24:31,551 : INFO : collected 2841 word types from a corpus of 5173 raw words and 1 sentences\n",
      "2020-04-26 01:24:31,552 : INFO : Loading a fresh vocabulary\n",
      "2020-04-26 01:24:31,556 : INFO : effective_min_count=1 retains 2841 unique words (100% of original 2841, drops 0)\n",
      "2020-04-26 01:24:31,557 : INFO : effective_min_count=1 leaves 5173 word corpus (100% of original 5173, drops 0)\n",
      "2020-04-26 01:24:31,564 : INFO : deleting the raw counts dictionary of 2841 items\n",
      "2020-04-26 01:24:31,565 : INFO : sample=0.001 downsamples 18 most-common words\n",
      "2020-04-26 01:24:31,565 : INFO : downsampling leaves estimated 5094 word corpus (98.5% of prior 5173)\n",
      "2020-04-26 01:24:31,569 : INFO : estimated required memory for 2841 words and 100 dimensions: 3693300 bytes\n",
      "2020-04-26 01:24:31,570 : INFO : resetting layer weights\n",
      "2020-04-26 01:24:32,056 : INFO : training model with 4 workers on 2841 vocabulary and 100 features, using sg=0 hs=0 sample=0.001 negative=5 window=5\n",
      "2020-04-26 01:24:32,060 : INFO : worker thread finished; awaiting finish of 3 more threads\n",
      "2020-04-26 01:24:32,061 : INFO : worker thread finished; awaiting finish of 2 more threads\n",
      "2020-04-26 01:24:32,061 : INFO : worker thread finished; awaiting finish of 1 more threads\n",
      "2020-04-26 01:24:32,070 : INFO : worker thread finished; awaiting finish of 0 more threads\n",
      "2020-04-26 01:24:32,070 : INFO : EPOCH - 1 : training on 5173 raw words (5087 effective words) took 0.0s, 440648 effective words/s\n",
      "2020-04-26 01:24:32,074 : INFO : worker thread finished; awaiting finish of 3 more threads\n",
      "2020-04-26 01:24:32,074 : INFO : worker thread finished; awaiting finish of 2 more threads\n",
      "2020-04-26 01:24:32,078 : INFO : worker thread finished; awaiting finish of 1 more threads\n",
      "2020-04-26 01:24:32,084 : INFO : worker thread finished; awaiting finish of 0 more threads\n",
      "2020-04-26 01:24:32,084 : INFO : EPOCH - 2 : training on 5173 raw words (5090 effective words) took 0.0s, 420670 effective words/s\n",
      "2020-04-26 01:24:32,087 : INFO : worker thread finished; awaiting finish of 3 more threads\n",
      "2020-04-26 01:24:32,088 : INFO : worker thread finished; awaiting finish of 2 more threads\n",
      "2020-04-26 01:24:32,089 : INFO : worker thread finished; awaiting finish of 1 more threads\n",
      "2020-04-26 01:24:32,096 : INFO : worker thread finished; awaiting finish of 0 more threads\n",
      "2020-04-26 01:24:32,096 : INFO : EPOCH - 3 : training on 5173 raw words (5104 effective words) took 0.0s, 489356 effective words/s\n",
      "2020-04-26 01:24:32,099 : INFO : worker thread finished; awaiting finish of 3 more threads\n",
      "2020-04-26 01:24:32,100 : INFO : worker thread finished; awaiting finish of 2 more threads\n",
      "2020-04-26 01:24:32,101 : INFO : worker thread finished; awaiting finish of 1 more threads\n",
      "2020-04-26 01:24:32,108 : INFO : worker thread finished; awaiting finish of 0 more threads\n",
      "2020-04-26 01:24:32,109 : INFO : EPOCH - 4 : training on 5173 raw words (5089 effective words) took 0.0s, 478957 effective words/s\n",
      "2020-04-26 01:24:32,112 : INFO : worker thread finished; awaiting finish of 3 more threads\n",
      "2020-04-26 01:24:32,113 : INFO : worker thread finished; awaiting finish of 2 more threads\n",
      "2020-04-26 01:24:32,114 : INFO : worker thread finished; awaiting finish of 1 more threads\n",
      "2020-04-26 01:24:32,121 : INFO : worker thread finished; awaiting finish of 0 more threads\n",
      "2020-04-26 01:24:32,121 : INFO : EPOCH - 5 : training on 5173 raw words (5101 effective words) took 0.0s, 484569 effective words/s\n",
      "2020-04-26 01:24:32,122 : INFO : training on a 25865 raw words (25471 effective words) took 0.1s, 393189 effective words/s\n",
      "2020-04-26 01:24:32,122 : WARNING : under 10 jobs per worker: consider setting a smaller `batch_words' for smoother alpha decay\n",
      "2020-04-26 01:24:32,123 : INFO : saving Word2Vec object under wikiw2v.model, separately None\n",
      "2020-04-26 01:24:32,123 : INFO : not storing attribute vectors_norm\n",
      "2020-04-26 01:24:32,124 : INFO : not storing attribute cum_table\n",
      "2020-04-26 01:24:32,149 : INFO : saved wikiw2v.model\n"
     ]
    }
   ],
   "source": [
    "import gensim, logging\n",
    "from gensim.models import Word2Vec\n",
    "\n",
    "logging.basicConfig(format='%(asctime)s : %(levelname)s : %(message)s', level=logging.INFO)\n",
    "\n",
    "model = gensim.models.Word2Vec(min_count=1, workers=4)\n",
    "model.build_vocab([bag], progress_per=200000)\n",
    "model.train([bag], epochs=model.epochs, total_examples = model.corpus_count)\n",
    "model.save('wikiw2v.model')"
   ]
  },
  {
   "cell_type": "code",
   "execution_count": 68,
   "metadata": {},
   "outputs": [
    {
     "name": "stderr",
     "output_type": "stream",
     "text": [
      "/home/hadoop/miniconda/lib/python3.7/site-packages/ipykernel_launcher.py:1: DeprecationWarning: Call to deprecated `__getitem__` (Method will be removed in 4.0.0, use self.wv.__getitem__() instead).\n",
      "  \"\"\"Entry point for launching an IPython kernel.\n"
     ]
    },
    {
     "data": {
      "text/plain": [
       "array([-4.9345559e-03,  2.8157511e-03, -2.8440407e-03, -2.8837807e-03,\n",
       "       -1.7939520e-04, -3.3549110e-03,  1.6653471e-03, -1.3558514e-03,\n",
       "        3.8675396e-04,  4.1990993e-03,  3.1809363e-04,  4.2467280e-03,\n",
       "       -4.5813671e-03, -4.2068455e-03, -3.7316575e-03, -4.4005788e-03,\n",
       "        3.6935061e-03,  1.7932577e-03, -4.7004703e-03, -1.2004443e-03,\n",
       "       -4.8649386e-03,  1.0510389e-03, -8.4934472e-05, -3.8813849e-03,\n",
       "        2.8940702e-05,  3.9807744e-03,  5.5749784e-04,  4.7089765e-03,\n",
       "       -1.0215463e-03, -3.4138227e-03,  3.8320108e-03, -2.2564363e-03,\n",
       "       -2.9475163e-03, -3.2811519e-03,  6.3652243e-04, -2.8253873e-03,\n",
       "        2.6116604e-03, -1.4962563e-03,  3.5571421e-03, -4.4515328e-03,\n",
       "        3.5854334e-03,  1.6904001e-03,  4.4565718e-03, -5.0842832e-03,\n",
       "        1.3151071e-03, -4.5135012e-03, -3.8599975e-03, -6.3840888e-04,\n",
       "       -2.3547511e-03, -1.5899342e-03, -4.2506210e-03,  2.5588400e-03,\n",
       "       -1.1868946e-03,  1.0762188e-03,  7.4906473e-04, -1.3178798e-03,\n",
       "       -1.0516903e-03,  4.6825199e-03,  3.7646666e-03,  1.3747502e-03,\n",
       "       -1.2020095e-03, -4.4748597e-03,  9.3515922e-04,  4.3332078e-03,\n",
       "       -1.2972631e-03,  3.3098734e-03, -1.0803672e-03, -4.6505970e-03,\n",
       "        1.6324630e-04,  1.1813880e-03, -4.9083880e-03,  3.5680472e-03,\n",
       "       -4.1313930e-03, -3.7593222e-03,  2.5508117e-03, -7.3087233e-04,\n",
       "        1.9394676e-03,  2.7705573e-03,  1.0324267e-03,  1.1319574e-05,\n",
       "        1.6397146e-03,  4.0132715e-03, -3.0603804e-04,  2.6048900e-04,\n",
       "        1.5137162e-03,  1.3216143e-03, -5.6646502e-04, -3.2822927e-03,\n",
       "       -4.0112562e-03, -2.0375396e-03,  4.6969126e-03,  2.2737442e-03,\n",
       "       -2.4774296e-03, -2.6497019e-03, -1.7003025e-04, -3.7446576e-03,\n",
       "       -4.4141873e-03,  7.0887814e-05,  2.0117816e-03, -4.8092501e-03],\n",
       "      dtype=float32)"
      ]
     },
     "execution_count": 68,
     "metadata": {},
     "output_type": "execute_result"
    }
   ],
   "source": [
    "model['example']"
   ]
  },
  {
   "cell_type": "markdown",
   "metadata": {},
   "source": [
    "### Topic models attempt"
   ]
  },
  {
   "cell_type": "code",
   "execution_count": 16,
   "metadata": {},
   "outputs": [
    {
     "name": "stderr",
     "output_type": "stream",
     "text": [
      "unable to import 'smart_open.gcs', disabling that module\n"
     ]
    }
   ],
   "source": [
    "from gensim.models import TfidfModel, LsiModel\n",
    "from gensim.corpora import Dictionary, WikiCorpus, MmCorpus\n",
    "from gensim import similarities\n",
    "from gensim import utils\n",
    "import time\n",
    "import sys\n",
    "import logging\n",
    "import os"
   ]
  },
  {
   "cell_type": "code",
   "execution_count": 17,
   "metadata": {},
   "outputs": [
    {
     "ename": "NameError",
     "evalue": "name 'dump_file' is not defined",
     "output_type": "error",
     "traceback": [
      "\u001b[0;31m---------------------------------------------------------------------------\u001b[0m",
      "\u001b[0;31mNameError\u001b[0m                                 Traceback (most recent call last)",
      "\u001b[0;32m<ipython-input-17-0f56fbbb6f1b>\u001b[0m in \u001b[0;36m<module>\u001b[0;34m\u001b[0m\n\u001b[1;32m      1\u001b[0m \u001b[0mdictionary\u001b[0m \u001b[0;34m=\u001b[0m \u001b[0mDictionary\u001b[0m\u001b[0;34m(\u001b[0m\u001b[0;34m)\u001b[0m\u001b[0;34m\u001b[0m\u001b[0;34m\u001b[0m\u001b[0m\n\u001b[0;32m----> 2\u001b[0;31m \u001b[0mwiki\u001b[0m \u001b[0;34m=\u001b[0m \u001b[0mWikiCorpus\u001b[0m\u001b[0;34m(\u001b[0m\u001b[0mdump_file\u001b[0m\u001b[0;34m,\u001b[0m \u001b[0mdictionary\u001b[0m\u001b[0;34m=\u001b[0m\u001b[0mdictionary\u001b[0m\u001b[0;34m)\u001b[0m\u001b[0;34m\u001b[0m\u001b[0;34m\u001b[0m\u001b[0m\n\u001b[0m",
      "\u001b[0;31mNameError\u001b[0m: name 'dump_file' is not defined"
     ]
    }
   ],
   "source": [
    "dictionary = Dictionary()\n",
    "wiki = WikiCorpus(dump_file, dictionary=dictionary)"
   ]
  },
  {
   "cell_type": "code",
   "execution_count": null,
   "metadata": {},
   "outputs": [],
   "source": [
    "print('Parsing Wikipedia to build Dictionary...')    \n",
    "dictionary.add_documents(wiki.get_texts(), prune_at=None) \n",
    "keep_words = 100000 \n",
    "wiki.dictionary.filter_extremes(no_below=20, no_above=0.1, keep_n=keep_words)\n",
    "wiki.dictionary.save_as_text('./data/dictionary.txt.bz2')"
   ]
  },
  {
   "cell_type": "code",
   "execution_count": null,
   "metadata": {},
   "outputs": [],
   "source": []
  }
 ],
 "metadata": {
  "kernelspec": {
   "display_name": "Python 3",
   "language": "python",
   "name": "python3"
  },
  "language_info": {
   "codemirror_mode": {
    "name": "ipython",
    "version": 3
   },
   "file_extension": ".py",
   "mimetype": "text/x-python",
   "name": "python",
   "nbconvert_exporter": "python",
   "pygments_lexer": "ipython3",
   "version": "3.7.6"
  }
 },
 "nbformat": 4,
 "nbformat_minor": 4
}
