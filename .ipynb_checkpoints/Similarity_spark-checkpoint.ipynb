{
 "cells": [
  {
   "cell_type": "markdown",
   "metadata": {},
   "source": [
    "### TFIDF Similarity with Spark"
   ]
  },
  {
   "cell_type": "code",
   "execution_count": 1,
   "metadata": {},
   "outputs": [],
   "source": [
    "import findspark\n",
    "findspark.init()\n",
    "\n",
    "from pyspark.sql import SparkSession, SQLContext\n",
    "spark = SparkSession.builder.appName(\"spark-nlp\") \\\n",
    "    .config(\"spark.jars.packages\", \"com.johnsnowlabs.nlp:spark-nlp_2.11:2.4.5\")\\\n",
    "    .getOrCreate()"
   ]
  },
  {
   "cell_type": "code",
   "execution_count": 2,
   "metadata": {},
   "outputs": [
    {
     "data": {
      "text/html": [
       "\n",
       "            <div>\n",
       "                <p><b>SparkSession - in-memory</b></p>\n",
       "                \n",
       "        <div>\n",
       "            <p><b>SparkContext</b></p>\n",
       "\n",
       "            <p><a href=\"http://ip-172-31-89-232.ec2.internal:4040\">Spark UI</a></p>\n",
       "\n",
       "            <dl>\n",
       "              <dt>Version</dt>\n",
       "                <dd><code>v2.4.4</code></dd>\n",
       "              <dt>Master</dt>\n",
       "                <dd><code>yarn</code></dd>\n",
       "              <dt>AppName</dt>\n",
       "                <dd><code>spark-nlp</code></dd>\n",
       "            </dl>\n",
       "        </div>\n",
       "        \n",
       "            </div>\n",
       "        "
      ],
      "text/plain": [
       "<pyspark.sql.session.SparkSession at 0x7ff4167a0b10>"
      ]
     },
     "execution_count": 2,
     "metadata": {},
     "output_type": "execute_result"
    }
   ],
   "source": [
    "sc = spark.sparkContext\n",
    "sqlContext = SQLContext(sc)\n",
    "spark"
   ]
  },
  {
   "cell_type": "code",
   "execution_count": 6,
   "metadata": {},
   "outputs": [],
   "source": [
    "wiki = sc.wholeTextFiles(\"s3a://zihe-public/articles/AA/wiki_00\")"
   ]
  },
  {
   "cell_type": "code",
   "execution_count": 7,
   "metadata": {},
   "outputs": [],
   "source": [
    "import re\n",
    "\n",
    "def get_title(x):\n",
    "    pattern = \"\\<doc\\sid\\=\\\"(\\d+)\\\"(.*)title\\=\\\"(.*)\\\"\\>\"\n",
    "    pattern_re = re.compile(pattern)\n",
    "    matches = pattern_re.search(x)\n",
    "    if not matches:\n",
    "        return \"\"\n",
    "    return matches[3]"
   ]
  },
  {
   "cell_type": "code",
   "execution_count": 8,
   "metadata": {},
   "outputs": [],
   "source": [
    "def get_content(x):\n",
    "    pattern = \"\\<doc\\sid\\=\\\"(\\d+)\\\"(.*)title\\=\\\"(.*)\\\"\\>\\\\n(.*?)\\\\n{2}\"\n",
    "    pattern_re = re.compile(pattern)\n",
    "    matches = pattern_re.search(x)\n",
    "    if not matches:\n",
    "        return \"\"\n",
    "    idx = matches.end(0)\n",
    "    return x[idx:]"
   ]
  },
  {
   "cell_type": "code",
   "execution_count": 10,
   "metadata": {},
   "outputs": [],
   "source": [
    "titles = wiki.flatMap(lambda x :(x[1].split('</doc>'))).map(lambda x : get_title(x))"
   ]
  },
  {
   "cell_type": "code",
   "execution_count": 11,
   "metadata": {},
   "outputs": [],
   "source": [
    "titles2 = titles.collect()"
   ]
  },
  {
   "cell_type": "code",
   "execution_count": 12,
   "metadata": {},
   "outputs": [
    {
     "data": {
      "text/plain": [
       "['Anarchism', 'Autism', 'Albedo']"
      ]
     },
     "execution_count": 12,
     "metadata": {},
     "output_type": "execute_result"
    }
   ],
   "source": [
    "titles2[0:3]"
   ]
  },
  {
   "cell_type": "code",
   "execution_count": 13,
   "metadata": {},
   "outputs": [],
   "source": [
    "pages = wiki.flatMap(lambda x :(x[1].split('</doc>'))).map(lambda x : get_content(x))"
   ]
  },
  {
   "cell_type": "code",
   "execution_count": 14,
   "metadata": {},
   "outputs": [],
   "source": [
    "pages2 = pages.collect()"
   ]
  },
  {
   "cell_type": "code",
   "execution_count": 15,
   "metadata": {},
   "outputs": [],
   "source": [
    "pages3 = [d.split() for d in pages2]"
   ]
  },
  {
   "cell_type": "code",
   "execution_count": 16,
   "metadata": {},
   "outputs": [
    {
     "data": {
      "text/plain": [
       "38"
      ]
     },
     "execution_count": 16,
     "metadata": {},
     "output_type": "execute_result"
    }
   ],
   "source": [
    "lst = [titles2, pages2]\n",
    "len(lst[0])"
   ]
  },
  {
   "cell_type": "code",
   "execution_count": 17,
   "metadata": {},
   "outputs": [
    {
     "data": {
      "text/plain": [
       "38"
      ]
     },
     "execution_count": 17,
     "metadata": {},
     "output_type": "execute_result"
    }
   ],
   "source": [
    "l = list(zip(titles2,pages2))\n",
    "len(l)"
   ]
  },
  {
   "cell_type": "code",
   "execution_count": 25,
   "metadata": {},
   "outputs": [
    {
     "data": {
      "text/plain": [
       "[('List of Atlas Shrugged characters',\n",
       "  'This is a list of characters in Ayn Rand\\'s 1957 novel \"Atlas Shrugged.\"\\n\\nThe following are major characters from the novel.\\n\\nDagny Taggart is the protagonist of the novel. She is Vice-President in Charge of Operations for Taggart Transcontinental, under her brother, James Taggart. Given James\\' incompetence, Dagny is responsible for all the workings of the railroad.\\n\\nFrancisco d\\'Anconia is one of the central characters in \"Atlas Shrugged\", an owner by inheritance of the world\\'s largest copper mining operation. He is a childhood friend, and the first love, of Dagny Taggart. A child prodigy of exceptional talents, Francisco was dubbed the \"climax\" of the d\\'Anconia line, an already prestigious family of skilled industrialists. He was a classmate of John Galt and Ragnar Danneskjöld and student of both Hugh Akston and Robert Stadler. He began working while still in school, proving that he could have made a fortune without the aid of his family\\'s wealth and power. Later, Francisco bankrupts the d\\'Anconia business to put it out of others\\' reach. His full name is given as \"Francisco Domingo Carlos Andres Sebastián d\\'Anconia\".\\n\\nJohn Galt is the primary male hero of \"Atlas Shrugged\". He initially appears as an unnamed menial worker for Taggart Transcontinental, who often dines with Eddie Willers in the employees\\' cafeteria, and leads Eddie to reveal important information about Dagny Taggart and Taggart Transcontinental. Only Eddie\\'s side of their conversations is given in the novel. Later in the novel, the reader discovers this worker\\'s true identity.\\n\\nBefore working for Taggart Transcontinental, Galt worked as an engineer for the Twentieth Century Motor Company, where he secretly invented a generator of usable electric energy from ambient static electricity, but abandoned his prototype, and his employment, when dissatisfied by an easily corrupted novel system of payment. This prototype was found by Dagny Taggart and Hank Rearden. Galt himself remains concealed throughout much of the novel, working a job and living by himself, where he unites the most skillful inventors and business leaders under his leadership. Much of the book\\'s third division is given to his broadcast speech, which presents the author\\'s philosophy of Objectivism.\\n\\nHenry (known as \"Hank\") Rearden is one of the central characters in \"Atlas Shrugged\". He owns the most important steel company in the United States, and invents Rearden Metal, an alloy stronger, lighter, cheaper and tougher than steel. He lives in Philadelphia with his wife Lillian, his brother Philip, and his elderly mother. Rearden represents a type of self-made man and eventually divorces Lillian, abandons his steel mills following a bloody assault by government-planted workers, and joins John Galt\\'s strike.\\n\\nEdwin \"Eddie\" Willers is the Special Assistant to the Vice-President in Charge of Operations at Taggart Transcontinental. His father and grandfather worked for the Taggarts, and himself likewise. He is completely loyal to Dagny and to Taggart Transcontinental. Willers does not possess the creative ability of Galt\\'s associates, but matches them in moral courage and is capable of appreciating and making use of their creations. After Dagny shifts her attention and loyalty to saving the captive Galt, Willers maintains the railroad until its collapse.\\n\\nOne of Galt\\'s first followers, and world-famous as a pirate, who seizes relief ships sent from the United States to the People\\'s States of Europe. He works to ensure that once those espousing Galt\\'s philosophy are restored to their rightful place in society, they have enough capital to rebuild the world. Kept in the background for much of the book, Danneskjöld makes a personal appearance to encourage Rearden to persevere in his increasingly difficult situation, and gives him a bar of gold as compensation for the income taxes he has paid over the last several years. Danneskjöld is married to the actress Kay Ludlow; their relationship is kept hidden from the outside world, which only knows of Ludlow as a retired film star. Considered a misfit by Galt\\'s other adherents, he views his actions as a means to speed the world along in understanding Galt\\'s perspective.\\n\\nAccording to Barbara Branden, who was closely associated with Rand at the time the book was written, there were sections written describing Danneskjöld\\'s adventures at sea, cut from the final published text. In a 1974 comment at a lecture, Ayn Rand admitted that Danneskjöld\\'s name was a tribute to Victor Hugo\\'s novel, , wherein the hero becomes the first of the Counts of Danneskjöld. In the published book, Danneskjöld is always seen through the eyes of others (Dagny Taggart or Hank Rearden), except for a brief paragraph in the very last chapter.\\n\\nThe President of Taggart Transcontinental and the book\\'s most important antagonist. Taggart is an expert influence peddler but incapable of making operational decisions on his own. He relies on his sister, Dagny Taggart, to actually run the railroad, but nonetheless opposes her in almost every endeavor because of his various anti-capitalist moral and political beliefs. In a sense, he is the antithesis of Dagny. This contradiction leads to the recurring absurdity of his life: the desire to overcome those on whom his life depends, and the horror that he will succeed at this. In the final chapters of the novel, he suffers a complete mental breakdown upon realizing that he can no longer deceive himself in this respect.\\n\\nThe unsupportive wife of Hank Rearden, who dislikes his habits and (secretly at first) seeks to ruin Rearden to prove her own value. Lillian achieves this, when she passes information to James Taggart about her husband\\'s affair with his sister. This information is used to persuade Rearden to sign a Gift Certificate which delivers all the property rights of Rearden Metal to others. Lillian thereafter uses James Taggart for sexual satisfaction, until Hank abandons her.\\n\\nFerris is a biologist who works as \"co-ordinator\" at the State Science Institute. He uses his position there to deride reason and productive achievement, and publishes a book entitled \"Why Do You Think You Think?\" He clashes on several occasions with Hank Rearden, and twice attempts to blackmail Rearden into giving up Rearden Metal. He is also one of the group of looters who tries to get Rearden to agree to the Steel Unification Plan. Ferris hosts the demonstration of the Project X weapon, and is the creator of the Ferris Persuader, a torture machine. When John Galt is captured by the looters, Ferris uses the device on Galt, but it breaks down before extracting the information Ferris wants from Galt. Ferris represents the group which uses brute force on the heroes to achieve the ends of the looters.\\n\\nA former professor at Patrick Henry University, and along with colleague Hugh Akston, mentor to Francisco d\\'Anconia, John Galt and Ragnar Danneskjöld. He has since become a sell-out, one who had great promise but squandered it for social approval, to the detriment of the free. He works at the State Science Institute where all his inventions are perverted for use by the military, including a sound-based weapon known as Project X (Xylophone). He is killed when Cuffy Meigs (see below) drunkenly overloads the circuits of Project X, causing it to destroy itself and every structure and living thing in a 100-mile radius. The character was, in part, modeled on J. Robert Oppenheimer, whom Rand had interviewed for an earlier project, and his part in the creation of nuclear weapons.` To his former student Galt, Stadler represents the epitome of human evil, as the \"man who knew better\" but chose not to act for the good.\\n\\nThe incompetent and treacherous lobbyist whom Hank Rearden reluctantly employs in Washington, who rises to prominence and authority throughout the novel through trading favours and disloyalty. In return for betraying Hank by helping broker the Equalization of Opportunity Bill (which, by restricting the number of businesses each person may own to one, forces Hank to divest most of his companies), he is given a senior position at the Bureau of Economic Planning and National Resources. Later in the novel he becomes its Top Co-ordinator, a position that eventually becomes Economic Dictator of the country.\\n\\nThe following secondary characters also appear in the novel.\\n\\n\\n\\n\\n\\n')]"
      ]
     },
     "execution_count": 25,
     "metadata": {},
     "output_type": "execute_result"
    }
   ],
   "source": [
    "rawRDD = sc.parallelize(l)\n",
    "rawRDD.top(1)"
   ]
  },
  {
   "cell_type": "code",
   "execution_count": 26,
   "metadata": {},
   "outputs": [],
   "source": [
    "rawRDD2 = rawRDD.map(lambda line:(line[0],list(set(line[1].split(\" \")))))\n",
    "uniquetitles = rawRDD2.map(lambda x:x[0]).distinct().collect()"
   ]
  },
  {
   "cell_type": "code",
   "execution_count": 27,
   "metadata": {},
   "outputs": [],
   "source": [
    "wordIDs = rawRDD2.flatMap(lambda x:x[1]).distinct().zipWithIndex().collectAsMap()\n",
    "wordIDs = sc.broadcast(wordIDs)"
   ]
  },
  {
   "cell_type": "code",
   "execution_count": 28,
   "metadata": {},
   "outputs": [],
   "source": [
    "## Experiment Spark Gensim\n",
    "def parseCorpus(line):\n",
    "    A = [(wordIDs.value[el],1) for el in line[1]]\n",
    "    return A\n",
    "\n",
    "corpse = rawRDD2.map(parseCorpus).collect()"
   ]
  },
  {
   "cell_type": "code",
   "execution_count": 29,
   "metadata": {},
   "outputs": [],
   "source": [
    "import gensim\n",
    "from gensim import corpora,models,similarities\n",
    "\n",
    "dictionary = corpora.Dictionary(rawRDD2.map(lambda x:x[1]).collect())"
   ]
  },
  {
   "cell_type": "code",
   "execution_count": 31,
   "metadata": {},
   "outputs": [],
   "source": [
    "keyword = \"human behavior\"\n",
    "tfidf = models.TfidfModel(corpse) \n",
    "feature_count = len(dictionary.token2id)\n",
    "kw_vector = dictionary.doc2bow(keyword.split())\n",
    "index = similarities.SparseMatrixSimilarity(tfidf[corpse], num_features = feature_count)\n",
    "sim = index[tfidf[kw_vector]]"
   ]
  },
  {
   "cell_type": "code",
   "execution_count": 32,
   "metadata": {},
   "outputs": [
    {
     "name": "stdout",
     "output_type": "stream",
     "text": [
      "keyword is similar to text1: 0.0026\n",
      "keyword is similar to text2: 0.0023\n",
      "keyword is similar to text3: 0.0034\n",
      "keyword is similar to text4: 0.0056\n",
      "keyword is similar to text5: 0.0000\n",
      "keyword is similar to text6: 0.0000\n",
      "keyword is similar to text7: 0.0000\n",
      "keyword is similar to text8: 0.0000\n",
      "keyword is similar to text9: 0.0000\n",
      "keyword is similar to text10: 0.0000\n",
      "keyword is similar to text11: 0.0023\n",
      "keyword is similar to text12: 0.0000\n",
      "keyword is similar to text13: 0.0000\n",
      "keyword is similar to text14: 0.0000\n",
      "keyword is similar to text15: 0.0000\n",
      "keyword is similar to text16: 0.0000\n",
      "keyword is similar to text17: 0.0000\n",
      "keyword is similar to text18: 0.0000\n",
      "keyword is similar to text19: 0.0017\n",
      "keyword is similar to text20: 0.0000\n",
      "keyword is similar to text21: 0.0000\n",
      "keyword is similar to text22: 0.0000\n",
      "keyword is similar to text23: 0.0000\n",
      "keyword is similar to text24: 0.0000\n",
      "keyword is similar to text25: 0.0000\n",
      "keyword is similar to text26: 0.0025\n",
      "keyword is similar to text27: 0.0000\n",
      "keyword is similar to text28: 0.0027\n",
      "keyword is similar to text29: 0.0189\n",
      "keyword is similar to text30: 0.0000\n",
      "keyword is similar to text31: 0.0000\n",
      "keyword is similar to text32: 0.0000\n",
      "keyword is similar to text33: 0.0020\n",
      "keyword is similar to text34: 0.0058\n",
      "keyword is similar to text35: 0.0000\n",
      "keyword is similar to text36: 0.0027\n",
      "keyword is similar to text37: 0.0018\n",
      "keyword is similar to text38: 0.0000\n"
     ]
    }
   ],
   "source": [
    "for i in range(len(sim)):\n",
    "    print('keyword is similar to text%d: %.4f' % (i + 1, sim[i]))"
   ]
  },
  {
   "cell_type": "code",
   "execution_count": 92,
   "metadata": {},
   "outputs": [
    {
     "data": {
      "text/html": [
       "<div>\n",
       "<style scoped>\n",
       "    .dataframe tbody tr th:only-of-type {\n",
       "        vertical-align: middle;\n",
       "    }\n",
       "\n",
       "    .dataframe tbody tr th {\n",
       "        vertical-align: top;\n",
       "    }\n",
       "\n",
       "    .dataframe thead th {\n",
       "        text-align: right;\n",
       "    }\n",
       "</style>\n",
       "<table border=\"1\" class=\"dataframe\">\n",
       "  <thead>\n",
       "    <tr style=\"text-align: right;\">\n",
       "      <th></th>\n",
       "      <th>id</th>\n",
       "      <th>title</th>\n",
       "      <th>similarity</th>\n",
       "    </tr>\n",
       "  </thead>\n",
       "  <tbody>\n",
       "    <tr>\n",
       "      <th>0</th>\n",
       "      <td>0</td>\n",
       "      <td>Anarchism</td>\n",
       "      <td>0.003152</td>\n",
       "    </tr>\n",
       "    <tr>\n",
       "      <th>1</th>\n",
       "      <td>1</td>\n",
       "      <td>Autism</td>\n",
       "      <td>0.002772</td>\n",
       "    </tr>\n",
       "    <tr>\n",
       "      <th>2</th>\n",
       "      <td>2</td>\n",
       "      <td>Albedo</td>\n",
       "      <td>0.004141</td>\n",
       "    </tr>\n",
       "    <tr>\n",
       "      <th>3</th>\n",
       "      <td>3</td>\n",
       "      <td>A</td>\n",
       "      <td>0.006719</td>\n",
       "    </tr>\n",
       "    <tr>\n",
       "      <th>4</th>\n",
       "      <td>4</td>\n",
       "      <td>Alabama</td>\n",
       "      <td>0.000000</td>\n",
       "    </tr>\n",
       "  </tbody>\n",
       "</table>\n",
       "</div>"
      ],
      "text/plain": [
       "   id      title  similarity\n",
       "0   0  Anarchism    0.003152\n",
       "1   1     Autism    0.002772\n",
       "2   2     Albedo    0.004141\n",
       "3   3          A    0.006719\n",
       "4   4    Alabama    0.000000"
      ]
     },
     "execution_count": 92,
     "metadata": {},
     "output_type": "execute_result"
    }
   ],
   "source": [
    "import pandas as pd\n",
    "\n",
    "l = [range(len(titles2)),titles2, sim]\n",
    "lt = list(map(list, zip(*l)))\n",
    "pdf = pd.DataFrame(lt, columns = ['id','title','similarity'])\n",
    "pdf.head()"
   ]
  },
  {
   "cell_type": "code",
   "execution_count": 93,
   "metadata": {},
   "outputs": [
    {
     "name": "stderr",
     "output_type": "stream",
     "text": [
      "/usr/lib/spark/python/pyspark/sql/session.py:714: UserWarning: createDataFrame attempted Arrow optimization because 'spark.sql.execution.arrow.enabled' is set to true; however, failed by the reason below:\n",
      "  PyArrow >= 0.8.0 must be installed; however, it was not found.\n",
      "Attempting non-optimization as 'spark.sql.execution.arrow.fallback.enabled' is set to true.\n",
      "  warnings.warn(msg)\n"
     ]
    }
   ],
   "source": [
    "from pyspark.sql.functions import col\n",
    "\n",
    "df = sqlContext.createDataFrame(pdf)\n",
    "df = df.sort(col(\"similarity\").desc())  #### DO NOT SORT ON THE BIG DATASET ####"
   ]
  },
  {
   "cell_type": "code",
   "execution_count": 95,
   "metadata": {},
   "outputs": [],
   "source": [
    "import pyspark.sql.functions as func\n",
    "\n",
    "df = df.select(col(\"id\"),col(\"title\"), \n",
    "                func.round(df[\"similarity\"],4).alias(\"similarity\"))"
   ]
  },
  {
   "cell_type": "code",
   "execution_count": 96,
   "metadata": {},
   "outputs": [
    {
     "name": "stdout",
     "output_type": "stream",
     "text": [
      "+---+----------------------------+----------+\n",
      "|id |title                       |similarity|\n",
      "+---+----------------------------+----------+\n",
      "|30 |Austroasiatic languages     |0.0322    |\n",
      "|6  |Abraham Lincoln             |0.0148    |\n",
      "|33 |Arithmetic mean             |0.007     |\n",
      "|3  |A                           |0.0067    |\n",
      "|2  |Albedo                      |0.0041    |\n",
      "|35 |Animal Farm                 |0.0033    |\n",
      "|27 |Animation                   |0.0032    |\n",
      "|0  |Anarchism                   |0.0032    |\n",
      "|25 |ASCII                       |0.0031    |\n",
      "|1  |Autism                      |0.0028    |\n",
      "|10 |Academy Awards              |0.0028    |\n",
      "|32 |Andorra                     |0.0024    |\n",
      "|36 |Amphibian                   |0.0021    |\n",
      "|18 |Algeria                     |0.0021    |\n",
      "|28 |Apollo                      |0.0018    |\n",
      "|26 |Austin (disambiguation)     |0.0       |\n",
      "|34 |American Football Conference|0.0       |\n",
      "|22 |Alchemy                     |0.0       |\n",
      "|24 |Astronomer                  |0.0       |\n",
      "|21 |Agricultural science        |0.0       |\n",
      "+---+----------------------------+----------+\n",
      "only showing top 20 rows\n",
      "\n"
     ]
    }
   ],
   "source": [
    "df.show(truncate = False)"
   ]
  },
  {
   "cell_type": "code",
   "execution_count": null,
   "metadata": {},
   "outputs": [],
   "source": []
  }
 ],
 "metadata": {
  "kernelspec": {
   "display_name": "Python 3",
   "language": "python",
   "name": "python3"
  },
  "language_info": {
   "codemirror_mode": {
    "name": "ipython",
    "version": 3
   },
   "file_extension": ".py",
   "mimetype": "text/x-python",
   "name": "python",
   "nbconvert_exporter": "python",
   "pygments_lexer": "ipython3",
   "version": "3.7.6"
  }
 },
 "nbformat": 4,
 "nbformat_minor": 4
}
