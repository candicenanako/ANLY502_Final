{
 "cells": [
  {
   "cell_type": "code",
   "execution_count": 1,
   "metadata": {},
   "outputs": [],
   "source": [
    "import findspark\n",
    "findspark.init()"
   ]
  },
  {
   "cell_type": "code",
   "execution_count": 2,
   "metadata": {},
   "outputs": [],
   "source": [
    "# Set up SparkSession\n",
    "from pyspark.sql import SparkSession\n",
    "spark = SparkSession.builder.appName(\"spark-nlp\") \\\n",
    "    .config(\"spark.jars.packages\", \"com.johnsnowlabs.nlp:spark-nlp_2.11:2.4.5\") \\\n",
    "    .getOrCreate()"
   ]
  },
  {
   "cell_type": "code",
   "execution_count": 3,
   "metadata": {},
   "outputs": [
    {
     "data": {
      "text/html": [
       "\n",
       "            <div>\n",
       "                <p><b>SparkSession - in-memory</b></p>\n",
       "                \n",
       "        <div>\n",
       "            <p><b>SparkContext</b></p>\n",
       "\n",
       "            <p><a href=\"http://ip-172-31-90-35.ec2.internal:4040\">Spark UI</a></p>\n",
       "\n",
       "            <dl>\n",
       "              <dt>Version</dt>\n",
       "                <dd><code>v2.4.4</code></dd>\n",
       "              <dt>Master</dt>\n",
       "                <dd><code>yarn</code></dd>\n",
       "              <dt>AppName</dt>\n",
       "                <dd><code>spark-nlp</code></dd>\n",
       "            </dl>\n",
       "        </div>\n",
       "        \n",
       "            </div>\n",
       "        "
      ],
      "text/plain": [
       "<pyspark.sql.session.SparkSession at 0x7f722c61bc10>"
      ]
     },
     "execution_count": 3,
     "metadata": {},
     "output_type": "execute_result"
    }
   ],
   "source": [
    "# Check the SparkSession\n",
    "spark"
   ]
  },
  {
   "cell_type": "code",
   "execution_count": 25,
   "metadata": {},
   "outputs": [],
   "source": [
    "# Get data from S3\n",
    "sc = spark.sparkContext\n",
    "data = sc.wholeTextFiles(\"s3://zihe-public/articles/*\")"
   ]
  },
  {
   "cell_type": "code",
   "execution_count": 26,
   "metadata": {},
   "outputs": [],
   "source": [
    "# Functions to extract id, title and text\n",
    "import re\n",
    "def get_id(x):\n",
    "    pattern = \"\\<doc\\sid\\=\\\"(\\d+)\\\"(.*)title\\=\\\"(.*)\\\"\\>\"\n",
    "    pattern_re = re.compile(pattern)\n",
    "    matches = pattern_re.search(x)\n",
    "    if not matches:\n",
    "        return \"\"\n",
    "    return matches[1]\n",
    "\n",
    "def get_title(x):\n",
    "    pattern = \"\\<doc\\sid\\=\\\"(\\d+)\\\"(.*)title\\=\\\"(.*)\\\"\\>\"\n",
    "    pattern_re = re.compile(pattern)\n",
    "    matches = pattern_re.search(x)\n",
    "    if not matches:\n",
    "        return \"\"\n",
    "    return matches[3]\n",
    "\n",
    "def get_content(x):\n",
    "    pattern = \"\\<doc\\sid\\=\\\"(\\d+)\\\"(.*)title\\=\\\"(.*)\\\"\\>\\\\n(.*?)\\\\n{2}\"\n",
    "    pattern_re = re.compile(pattern)\n",
    "    matches = pattern_re.search(x)\n",
    "    if not matches:\n",
    "        return \"\"\n",
    "    idx = matches.end(0)\n",
    "    return x[idx:]"
   ]
  },
  {
   "cell_type": "code",
   "execution_count": 32,
   "metadata": {},
   "outputs": [],
   "source": [
    "# Map each page to id, title and content \n",
    "pages = data.flatMap(lambda x: (x[1].split('</doc>'))).map(lambda x : (get_id(x), get_title(x), get_content(x)))"
   ]
  },
  {
   "cell_type": "code",
   "execution_count": 33,
   "metadata": {},
   "outputs": [
    {
     "data": {
      "text/plain": [
       "pyspark.rdd.PipelinedRDD"
      ]
     },
     "execution_count": 33,
     "metadata": {},
     "output_type": "execute_result"
    }
   ],
   "source": [
    "# Check type of data\n",
    "type(pages)"
   ]
  },
  {
   "cell_type": "code",
   "execution_count": 34,
   "metadata": {},
   "outputs": [
    {
     "data": {
      "text/plain": [
       "6075800"
      ]
     },
     "execution_count": 34,
     "metadata": {},
     "output_type": "execute_result"
    }
   ],
   "source": [
    "# Check total pages \n",
    "pages.count()"
   ]
  },
  {
   "cell_type": "markdown",
   "metadata": {},
   "source": [
    "## Explore Article Titles"
   ]
  },
  {
   "cell_type": "code",
   "execution_count": 48,
   "metadata": {},
   "outputs": [
    {
     "data": {
      "text/plain": [
       "'Anarchism'"
      ]
     },
     "execution_count": 48,
     "metadata": {},
     "output_type": "execute_result"
    }
   ],
   "source": [
    "pages.take(2)[0][1]"
   ]
  },
  {
   "cell_type": "code",
   "execution_count": 47,
   "metadata": {},
   "outputs": [
    {
     "data": {
      "text/plain": [
       "['Anarchism', 'Autism']"
      ]
     },
     "execution_count": 47,
     "metadata": {},
     "output_type": "execute_result"
    }
   ],
   "source": [
    "titles = pages.map(lambda s: s[1])\n",
    "titles.take(2)"
   ]
  },
  {
   "cell_type": "code",
   "execution_count": 125,
   "metadata": {},
   "outputs": [
    {
     "data": {
      "text/plain": [
       "[(1, 799806), (2, 2580558)]"
      ]
     },
     "execution_count": 125,
     "metadata": {},
     "output_type": "execute_result"
    }
   ],
   "source": [
    "# Get lengths of titles\n",
    "titles_words = titles.map(lambda s: (len(s.split(\" \")), 1))\n",
    "lens = titles_words.reduceByKey(lambda x,y: x+y)\n",
    "lens.take(2)"
   ]
  },
  {
   "cell_type": "code",
   "execution_count": 145,
   "metadata": {},
   "outputs": [
    {
     "data": {
      "text/html": [
       "<div>\n",
       "<style scoped>\n",
       "    .dataframe tbody tr th:only-of-type {\n",
       "        vertical-align: middle;\n",
       "    }\n",
       "\n",
       "    .dataframe tbody tr th {\n",
       "        vertical-align: top;\n",
       "    }\n",
       "\n",
       "    .dataframe thead th {\n",
       "        text-align: right;\n",
       "    }\n",
       "</style>\n",
       "<table border=\"1\" class=\"dataframe\">\n",
       "  <thead>\n",
       "    <tr style=\"text-align: right;\">\n",
       "      <th></th>\n",
       "      <th>title_length</th>\n",
       "      <th>count</th>\n",
       "    </tr>\n",
       "  </thead>\n",
       "  <tbody>\n",
       "    <tr>\n",
       "      <th>0</th>\n",
       "      <td>1</td>\n",
       "      <td>799806</td>\n",
       "    </tr>\n",
       "    <tr>\n",
       "      <th>1</th>\n",
       "      <td>2</td>\n",
       "      <td>2580558</td>\n",
       "    </tr>\n",
       "    <tr>\n",
       "      <th>2</th>\n",
       "      <td>3</td>\n",
       "      <td>1254760</td>\n",
       "    </tr>\n",
       "    <tr>\n",
       "      <th>3</th>\n",
       "      <td>4</td>\n",
       "      <td>639450</td>\n",
       "    </tr>\n",
       "    <tr>\n",
       "      <th>4</th>\n",
       "      <td>5</td>\n",
       "      <td>367086</td>\n",
       "    </tr>\n",
       "    <tr>\n",
       "      <th>5</th>\n",
       "      <td>6</td>\n",
       "      <td>200223</td>\n",
       "    </tr>\n",
       "    <tr>\n",
       "      <th>6</th>\n",
       "      <td>7</td>\n",
       "      <td>105165</td>\n",
       "    </tr>\n",
       "    <tr>\n",
       "      <th>7</th>\n",
       "      <td>8</td>\n",
       "      <td>49728</td>\n",
       "    </tr>\n",
       "    <tr>\n",
       "      <th>8</th>\n",
       "      <td>9</td>\n",
       "      <td>32808</td>\n",
       "    </tr>\n",
       "    <tr>\n",
       "      <th>9</th>\n",
       "      <td>10</td>\n",
       "      <td>22452</td>\n",
       "    </tr>\n",
       "  </tbody>\n",
       "</table>\n",
       "</div>"
      ],
      "text/plain": [
       "   title_length    count\n",
       "0             1   799806\n",
       "1             2  2580558\n",
       "2             3  1254760\n",
       "3             4   639450\n",
       "4             5   367086\n",
       "5             6   200223\n",
       "6             7   105165\n",
       "7             8    49728\n",
       "8             9    32808\n",
       "9            10    22452"
      ]
     },
     "execution_count": 145,
     "metadata": {},
     "output_type": "execute_result"
    }
   ],
   "source": [
    "# Convert result to dataframe\n",
    "titles_df = lens.toDF([\"title_length\", \"count\"])\n",
    "titles_df = titles_df.toPandas()\n",
    "titles_df.head(10)"
   ]
  },
  {
   "cell_type": "code",
   "execution_count": 158,
   "metadata": {},
   "outputs": [
    {
     "data": {
      "text/plain": [
       "43"
      ]
     },
     "execution_count": 158,
     "metadata": {},
     "output_type": "execute_result"
    }
   ],
   "source": [
    "# Get longest title\n",
    "max(titles_df['title_length'])"
   ]
  },
  {
   "cell_type": "code",
   "execution_count": 157,
   "metadata": {},
   "outputs": [
    {
     "data": {
      "text/plain": [
       "Text(0.5, 1.0, 'Title Length Distribution')"
      ]
     },
     "execution_count": 157,
     "metadata": {},
     "output_type": "execute_result"
    },
    {
     "data": {
      "image/png": "[encoded data removed]",
      "text/plain": [
       "<Figure size 432x288 with 1 Axes>"
      ]
     },
     "metadata": {
      "needs_background": "light"
     },
     "output_type": "display_data"
    }
   ],
   "source": [
    "%matplotlib inline\n",
    "import matplotlib.pyplot as plt\n",
    "titles_df.plot(\"title_length\", \"count\", xlim = (0, 15))\n",
    "plt.title(\"Title Length Distribution\")"
   ]
  },
  {
   "cell_type": "markdown",
   "metadata": {},
   "source": [
    "## Topic Modling "
   ]
  },
  {
   "cell_type": "code",
   "execution_count": 51,
   "metadata": {},
   "outputs": [
    {
     "name": "stderr",
     "output_type": "stream",
     "text": [
      "[nltk_data] Downloading package stopwords to /home/hadoop/nltk_data...\n",
      "[nltk_data]   Unzipping corpora/stopwords.zip.\n"
     ]
    },
    {
     "data": {
      "text/plain": [
       "True"
      ]
     },
     "execution_count": 51,
     "metadata": {},
     "output_type": "execute_result"
    }
   ],
   "source": [
    "import nltk \n",
    "nltk.download('stopwords')"
   ]
  },
  {
   "cell_type": "code",
   "execution_count": 69,
   "metadata": {},
   "outputs": [
    {
     "name": "stdout",
     "output_type": "stream",
     "text": [
      "lemma_antbnc download started this may take some time.\n",
      "Approximate size to download 907.6 KB\n",
      "[OK!]\n"
     ]
    }
   ],
   "source": [
    "import nltk\n",
    "# get the list of stopwords from nltk\n",
    "from nltk.corpus import stopwords\n",
    "\n",
    "eng_stopwords = stopwords.words('english')\n",
    "eng_stopwords.append('xxxx')\n",
    "from sparknlp.base import Finisher, DocumentAssembler\n",
    "from sparknlp.annotator import (Tokenizer, Normalizer, \n",
    "                                LemmatizerModel, StopWordsCleaner)\n",
    "from pyspark.ml import Pipeline\n",
    "\n",
    "documentAssembler = DocumentAssembler() \\\n",
    "    .setInputCol('title') \\\n",
    "    .setOutputCol('document')\n",
    "\n",
    "tokenizer = Tokenizer() \\\n",
    "    .setInputCols(['document']) \\\n",
    "    .setOutputCol('token')\n",
    "\n",
    "# note normalizer defaults to changing all words to lowercase.\n",
    "# Use .setLowercase(False) to maintain input case.\n",
    "normalizer = Normalizer() \\\n",
    "    .setInputCols(['token']) \\\n",
    "    .setOutputCol('normalized') \\\n",
    "    .setLowercase(True)\n",
    "\n",
    "# note that lemmatizer needs a dictionary\n",
    "lemmatizer = LemmatizerModel.pretrained() \\\n",
    "    .setInputCols(['normalized']) \\\n",
    "    .setOutputCol('lemma') \\\n",
    "\n",
    "stopwords_cleaner = StopWordsCleaner() \\\n",
    "    .setInputCols(['lemma']) \\\n",
    "    .setOutputCol('clean_lemma') \\\n",
    "    .setCaseSensitive(False) \\\n",
    "    .setStopWords(eng_stopwords)\n",
    "\n",
    "# finisher converts tokens to human-readable output\n",
    "finisher = Finisher() \\\n",
    "    .setInputCols(['clean_lemma']) \\\n",
    "    .setCleanAnnotations(False)\n",
    "\n",
    "pipeline = Pipeline() \\\n",
    "    .setStages([\n",
    "        documentAssembler,\n",
    "        tokenizer,\n",
    "        normalizer,\n",
    "        lemmatizer,\n",
    "        stopwords_cleaner,\n",
    "        finisher\n",
    "    ])"
   ]
  },
  {
   "cell_type": "code",
   "execution_count": 77,
   "metadata": {},
   "outputs": [],
   "source": [
    "pages = pages.toDF([\"id\",\"title\",\"text\"])\n",
    "pages.show(2)"
   ]
  },
  {
   "cell_type": "code",
   "execution_count": null,
   "metadata": {},
   "outputs": [],
   "source": [
    "article = pages[pages['title'] == \"Autism\"]\n",
    "article.show()"
   ]
  },
  {
   "cell_type": "code",
   "execution_count": null,
   "metadata": {},
   "outputs": [],
   "source": [
    "# transform titles with the pipeline\n",
    "cleaned = pipeline.fit(pages).transform(pages)"
   ]
  },
  {
   "cell_type": "code",
   "execution_count": 78,
   "metadata": {},
   "outputs": [],
   "source": [
    "cleaned = cleaned.selectExpr(\"id\", \"finished_clean_lemma\")"
   ]
  },
  {
   "cell_type": "code",
   "execution_count": 89,
   "metadata": {},
   "outputs": [
    {
     "data": {
      "text/plain": [
       "pyspark.sql.dataframe.DataFrame"
      ]
     },
     "execution_count": 89,
     "metadata": {},
     "output_type": "execute_result"
    }
   ],
   "source": [
    "type(cleaned)"
   ]
  },
  {
   "cell_type": "code",
   "execution_count": 66,
   "metadata": {},
   "outputs": [
    {
     "data": {
      "text/plain": [
       "[Row(id='12', features=['anarchism']),\n",
       " Row(id='25', features=['autism']),\n",
       " Row(id='39', features=['albedo']),\n",
       " Row(id='290', features=[]),\n",
       " Row(id='303', features=['alabama']),\n",
       " Row(id='305', features=['achilles']),\n",
       " Row(id='307', features=['abraham', 'lincoln']),\n",
       " Row(id='308', features=['aristotle']),\n",
       " Row(id='309', features=['american', 'paris']),\n",
       " Row(id='316', features=['academy', 'award', 'good', 'production', 'design'])]"
      ]
     },
     "execution_count": 66,
     "metadata": {},
     "output_type": "execute_result"
    }
   ],
   "source": [
    "cleaned.take(10)"
   ]
  },
  {
   "cell_type": "code",
   "execution_count": 79,
   "metadata": {},
   "outputs": [],
   "source": [
    "from pyspark.ml.feature import CountVectorizer\n",
    "# create a vector of words that at least appeared in two different tweets, and set maximum vocab size to 20000.\n",
    "vectorizer = CountVectorizer().setInputCol(\"finished_clean_lemma\").setOutputCol(\"features\").setVocabSize(20000).setMinDF(2).fit(\n",
    "    cleaned)\n",
    "wordVectors = vectorizer.transform(cleaned).select(\"id\", \"features\")"
   ]
  },
  {
   "cell_type": "code",
   "execution_count": 90,
   "metadata": {},
   "outputs": [
    {
     "data": {
      "text/plain": [
       "[Row(id='12', features=SparseVector(20000, {12748: 1.0})),\n",
       " Row(id='25', features=SparseVector(20000, {13125: 1.0})),\n",
       " Row(id='39', features=SparseVector(20000, {})),\n",
       " Row(id='290', features=SparseVector(20000, {})),\n",
       " Row(id='303', features=SparseVector(20000, {459: 1.0})),\n",
       " Row(id='305', features=SparseVector(20000, {13406: 1.0})),\n",
       " Row(id='307', features=SparseVector(20000, {1032: 1.0, 1163: 1.0})),\n",
       " Row(id='308', features=SparseVector(20000, {})),\n",
       " Row(id='309', features=SparseVector(20000, {38: 1.0, 711: 1.0})),\n",
       " Row(id='316', features=SparseVector(20000, {58: 1.0, 114: 1.0, 175: 1.0, 967: 1.0, 997: 1.0}))]"
      ]
     },
     "execution_count": 90,
     "metadata": {},
     "output_type": "execute_result"
    }
   ],
   "source": [
    "wordVectors.take(10)"
   ]
  },
  {
   "cell_type": "code",
   "execution_count": 83,
   "metadata": {},
   "outputs": [],
   "source": [
    "# LDA\n",
    "from pyspark.ml.clustering import LDA\n",
    "# create Latent Dirichlet Allocation model and run it on our data with 25 iteration and 5 topics\n",
    "lda = LDA(k=10, maxIter=25)\n",
    "# fit the model on data\n",
    "ldaModel = lda.fit(wordVectors)\n",
    "# create topics based on LDA\n",
    "lda_topics = ldaModel.describeTopics()\n",
    "# show LDA topics"
   ]
  },
  {
   "cell_type": "code",
   "execution_count": 91,
   "metadata": {},
   "outputs": [
    {
     "name": "stdout",
     "output_type": "stream",
     "text": [
      "+-----+----------------------------------------------+----------------------------------------------------------------------------------------------------------------------------------------------------------------------------------------------------------------------------+\n",
      "|topic|termIndices                                   |termWeights                                                                                                                                                                                                                 |\n",
      "+-----+----------------------------------------------+----------------------------------------------------------------------------------------------------------------------------------------------------------------------------------------------------------------------------+\n",
      "|0    |[0, 33, 6, 59, 70, 117, 115, 104, 119, 135]   |[0.02243211522673124, 0.020238984635445562, 0.015749959537255054, 0.01454214853957949, 0.010277370243841063, 0.00894751734032535, 0.008940467276564567, 0.008514299999927389, 0.008174559061590217, 0.007794034463477479]   |\n",
      "|1    |[27, 28, 3, 15, 30, 37, 29, 54, 56, 65]       |[0.02070363747892261, 0.020536906978794504, 0.017301917966647685, 0.01693377054164654, 0.014414073270600975, 0.013606503248730625, 0.012485129064739125, 0.012421788972654573, 0.00988764676400489, 0.00953051770856336]    |\n",
      "|2    |[5, 4, 49, 46, 63, 26, 88, 95, 113, 47]       |[0.050084854771518694, 0.04841479194504941, 0.016566533799655014, 0.012642639189355527, 0.011854814499791953, 0.011834993507310432, 0.010494171813435501, 0.010179851876041068, 0.009953525238575843, 0.00906607314963433]  |\n",
      "|3    |[67, 44, 83, 53, 179, 10, 185, 176, 221, 21]  |[0.019199184875258832, 0.01665563773780728, 0.013320673452311074, 0.01065283774556744, 0.010098156817392605, 0.009340877557297076, 0.009011881938453113, 0.008999454856023515, 0.008863065569528842, 0.008695644809321695]  |\n",
      "|4    |[1, 18, 69, 73, 0, 96, 98, 58, 111, 91]       |[0.05531629572896065, 0.033095036622721244, 0.012747989291622271, 0.01235293912270485, 0.010741690268356027, 0.010662966486149112, 0.010202386884447101, 0.010073549271670146, 0.009654392700548286, 0.009281397625256742]  |\n",
      "|5    |[2, 42, 48, 26, 51, 38, 132, 57, 177, 148]    |[0.07076196952051002, 0.025029763756186322, 0.02385017680669779, 0.02259594018353635, 0.015788928555700334, 0.013787654060010954, 0.010992421623676479, 0.010043253216323718, 0.009082946739000269, 0.008939927531332107]   |\n",
      "|6    |[19, 41, 43, 60, 100, 130, 146, 114, 159, 184]|[0.04596907300836393, 0.026458879876841868, 0.025496303109950207, 0.02216851717864103, 0.01430853788554871, 0.011861941239661859, 0.01083137864985683, 0.00987722516703967, 0.00930421065457951, 0.009295500795579382]      |\n",
      "|7    |[9, 7, 12, 11, 13, 17, 14, 20, 6, 0]          |[0.024568531780570953, 0.023567742662211306, 0.022945220177095237, 0.022230324924330642, 0.020289255343337587, 0.017457037348865348, 0.017422972885780715, 0.016250644183770466, 0.015055844411287598, 0.013646830532979473]|\n",
      "|8    |[8, 3, 10, 25, 22, 0, 32, 36, 40, 62]         |[0.0388267234977602, 0.02396547848346388, 0.023582156079202166, 0.022600624087260084, 0.02101744435525428, 0.020533965838581896, 0.019335170236052968, 0.0163399157261517, 0.016033666171200257, 0.012742049026719717]      |\n",
      "|9    |[0, 52, 77, 10, 123, 149, 151, 150, 166, 193] |[0.015754987932366463, 0.012767898511468877, 0.011546827230256506, 0.010299698388992007, 0.008914221149817875, 0.007887209257774681, 0.007841109352289266, 0.0076249895771548, 0.006638131830770419, 0.0063950830256548335] |\n",
      "+-----+----------------------------------------------+----------------------------------------------------------------------------------------------------------------------------------------------------------------------------------------------------------------------------+\n",
      "\n"
     ]
    }
   ],
   "source": [
    "lda_topics.show(11, False)"
   ]
  },
  {
   "cell_type": "code",
   "execution_count": 92,
   "metadata": {},
   "outputs": [],
   "source": [
    "lda_wordIndices = [row['termIndices'] for row in lda_topics.collect()]"
   ]
  },
  {
   "cell_type": "code",
   "execution_count": 98,
   "metadata": {},
   "outputs": [
    {
     "name": "stdout",
     "output_type": "stream",
     "text": [
      "Topic 0\n",
      "['list', 'park', 'county', 'township', 'henry', 'art', 'uss', 'museum', 'bridge', 'pennsylvania']\n",
      "\n",
      "\n",
      "Topic 1\n",
      "['railway', 'river', 'station', 'new', 'south', 'james', 'footballer', 'lake', 'bear', 'peter']\n",
      "\n",
      "\n",
      "Topic 2\n",
      "['john', 'district', 'island', 'university', 'olympic', 'game', 'group', 'c', 'b', 'summer']\n",
      "\n",
      "\n",
      "Topic 3\n",
      "['band', 'basketball', 'love', 'city', 'jack', 'album', 'l', 'line', 'k', 'mens']\n",
      "\n",
      "\n",
      "Topic 4\n",
      "['film', 'song', 'j', 'airport', 'list', 'language', 'joseph', 'award', 'surname', 'party']\n",
      "\n",
      "\n",
      "Topic 5\n",
      "['de', 'thomas', 'la', 'game', 'college', 'american', 'smith', 'amp', 'andrew', 'tour']\n",
      "\n",
      "\n",
      "Topic 6\n",
      "['william', 'george', 'david', 'charles', 'company', 'r', 'mount', 'good', 'act', 'el']\n",
      "\n",
      "\n",
      "Topic 7\n",
      "['state', 'disambiguation', 'championship', 'season', 'football', 'world', 'team', 'woman', 'county', 'list']\n",
      "\n",
      "\n",
      "Topic 8\n",
      "['school', 'station', 'album', 'st', 'house', 'list', 'high', 'church', 'series', 'tv']\n",
      "\n",
      "\n",
      "Topic 9\n",
      "['list', 'north', 'paul', 'album', 'man', 'novel', 'live', 'record', 'science', 'star']\n",
      "\n",
      "\n"
     ]
    }
   ],
   "source": [
    "lda_topics_bow = {}\n",
    "lda_bow_list = []\n",
    "for curr_idx, lda_topic in enumerate(lda_wordIndices):\n",
    "    lda_bow_list.clear()\n",
    "    for idx in range(10):\n",
    "        lda_bow_list.append(vectorizer.vocabulary[lda_topic[idx]])\n",
    "    lda_topics_bow[curr_idx] = lda_bow_list[:]\n",
    "    print(\"Topic \" + str(curr_idx))\n",
    "    print(lda_bow_list[:])\n",
    "    print(\"\\n\")"
   ]
  },
  {
   "cell_type": "code",
   "execution_count": null,
   "metadata": {},
   "outputs": [],
   "source": []
  },
  {
   "cell_type": "code",
   "execution_count": null,
   "metadata": {},
   "outputs": [],
   "source": []
  }
 ],
 "metadata": {
  "kernelspec": {
   "display_name": "Python 3",
   "language": "python",
   "name": "python3"
  },
  "language_info": {
   "codemirror_mode": {
    "name": "ipython",
    "version": 3
   },
   "file_extension": ".py",
   "mimetype": "text/x-python",
   "name": "python",
   "nbconvert_exporter": "python",
   "pygments_lexer": "ipython3",
   "version": "3.7.6"
  }
 },
 "nbformat": 4,
 "nbformat_minor": 4
}
